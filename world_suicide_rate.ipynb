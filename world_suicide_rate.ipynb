{
 "cells": [
  {
   "cell_type": "markdown",
   "metadata": {},
   "source": [
    "# Идеи для проекта любимчика"
   ]
  },
  {
   "cell_type": "code",
   "execution_count": 18,
   "metadata": {
    "ExecuteTime": {
     "end_time": "2019-04-09T11:10:34.105333Z",
     "start_time": "2019-04-09T11:10:33.996808Z"
    }
   },
   "outputs": [],
   "source": [
    "import pandas as pd\n",
    "import matplotlib.pyplot as plt\n",
    "%matplotlib inline\n",
    "import numpy as np\n",
    "from sklearn.linear_model import LinearRegression\n",
    "import seaborn as sns\n",
    "plt.style.use('ggplot')"
   ]
  },
  {
   "cell_type": "code",
   "execution_count": 2,
   "metadata": {
    "ExecuteTime": {
     "end_time": "2019-04-09T11:08:48.762277Z",
     "start_time": "2019-04-09T11:08:48.702336Z"
    },
    "scrolled": true
   },
   "outputs": [
    {
     "data": {
      "text/html": [
       "<div>\n",
       "<style scoped>\n",
       "    .dataframe tbody tr th:only-of-type {\n",
       "        vertical-align: middle;\n",
       "    }\n",
       "\n",
       "    .dataframe tbody tr th {\n",
       "        vertical-align: top;\n",
       "    }\n",
       "\n",
       "    .dataframe thead th {\n",
       "        text-align: right;\n",
       "    }\n",
       "</style>\n",
       "<table border=\"1\" class=\"dataframe\">\n",
       "  <thead>\n",
       "    <tr style=\"text-align: right;\">\n",
       "      <th></th>\n",
       "      <th>country</th>\n",
       "      <th>year</th>\n",
       "      <th>sex</th>\n",
       "      <th>age</th>\n",
       "      <th>suicides_no</th>\n",
       "      <th>population</th>\n",
       "      <th>suicides/100k pop</th>\n",
       "      <th>country-year</th>\n",
       "      <th>HDI for year</th>\n",
       "      <th>gdp_for_year ($)</th>\n",
       "      <th>gdp_per_capita ($)</th>\n",
       "      <th>generation</th>\n",
       "    </tr>\n",
       "  </thead>\n",
       "  <tbody>\n",
       "    <tr>\n",
       "      <th>0</th>\n",
       "      <td>Albania</td>\n",
       "      <td>1987</td>\n",
       "      <td>male</td>\n",
       "      <td>15-24 years</td>\n",
       "      <td>21</td>\n",
       "      <td>312900</td>\n",
       "      <td>6.71</td>\n",
       "      <td>Albania1987</td>\n",
       "      <td>NaN</td>\n",
       "      <td>2,156,624,900</td>\n",
       "      <td>796</td>\n",
       "      <td>Generation X</td>\n",
       "    </tr>\n",
       "    <tr>\n",
       "      <th>1</th>\n",
       "      <td>Albania</td>\n",
       "      <td>1987</td>\n",
       "      <td>male</td>\n",
       "      <td>35-54 years</td>\n",
       "      <td>16</td>\n",
       "      <td>308000</td>\n",
       "      <td>5.19</td>\n",
       "      <td>Albania1987</td>\n",
       "      <td>NaN</td>\n",
       "      <td>2,156,624,900</td>\n",
       "      <td>796</td>\n",
       "      <td>Silent</td>\n",
       "    </tr>\n",
       "    <tr>\n",
       "      <th>2</th>\n",
       "      <td>Albania</td>\n",
       "      <td>1987</td>\n",
       "      <td>female</td>\n",
       "      <td>15-24 years</td>\n",
       "      <td>14</td>\n",
       "      <td>289700</td>\n",
       "      <td>4.83</td>\n",
       "      <td>Albania1987</td>\n",
       "      <td>NaN</td>\n",
       "      <td>2,156,624,900</td>\n",
       "      <td>796</td>\n",
       "      <td>Generation X</td>\n",
       "    </tr>\n",
       "    <tr>\n",
       "      <th>3</th>\n",
       "      <td>Albania</td>\n",
       "      <td>1987</td>\n",
       "      <td>male</td>\n",
       "      <td>75+ years</td>\n",
       "      <td>1</td>\n",
       "      <td>21800</td>\n",
       "      <td>4.59</td>\n",
       "      <td>Albania1987</td>\n",
       "      <td>NaN</td>\n",
       "      <td>2,156,624,900</td>\n",
       "      <td>796</td>\n",
       "      <td>G.I. Generation</td>\n",
       "    </tr>\n",
       "    <tr>\n",
       "      <th>4</th>\n",
       "      <td>Albania</td>\n",
       "      <td>1987</td>\n",
       "      <td>male</td>\n",
       "      <td>25-34 years</td>\n",
       "      <td>9</td>\n",
       "      <td>274300</td>\n",
       "      <td>3.28</td>\n",
       "      <td>Albania1987</td>\n",
       "      <td>NaN</td>\n",
       "      <td>2,156,624,900</td>\n",
       "      <td>796</td>\n",
       "      <td>Boomers</td>\n",
       "    </tr>\n",
       "  </tbody>\n",
       "</table>\n",
       "</div>"
      ],
      "text/plain": [
       "   country  year     sex          age  suicides_no  population  \\\n",
       "0  Albania  1987    male  15-24 years           21      312900   \n",
       "1  Albania  1987    male  35-54 years           16      308000   \n",
       "2  Albania  1987  female  15-24 years           14      289700   \n",
       "3  Albania  1987    male    75+ years            1       21800   \n",
       "4  Albania  1987    male  25-34 years            9      274300   \n",
       "\n",
       "   suicides/100k pop country-year  HDI for year  gdp_for_year ($)   \\\n",
       "0               6.71  Albania1987           NaN      2,156,624,900   \n",
       "1               5.19  Albania1987           NaN      2,156,624,900   \n",
       "2               4.83  Albania1987           NaN      2,156,624,900   \n",
       "3               4.59  Albania1987           NaN      2,156,624,900   \n",
       "4               3.28  Albania1987           NaN      2,156,624,900   \n",
       "\n",
       "   gdp_per_capita ($)       generation  \n",
       "0                 796     Generation X  \n",
       "1                 796           Silent  \n",
       "2                 796     Generation X  \n",
       "3                 796  G.I. Generation  \n",
       "4                 796          Boomers  "
      ]
     },
     "execution_count": 2,
     "metadata": {},
     "output_type": "execute_result"
    }
   ],
   "source": [
    "#Загрузим данные\n",
    "df = pd.read_csv('data/master.csv')\n",
    "df.head()"
   ]
  },
  {
   "cell_type": "markdown",
   "metadata": {},
   "source": [
    "# Обзор данных\n",
    "\n",
    "Данные представлены в разбивке страна+год+пол+возрастная группа. Поэтому, например, чтоб посчитать совокупное число суицидов в Албании в 1987 году, нужно сложить значения по всем группам пол+возраст, относящихся к этому году и стране. Аналогично с населением страны.\n",
    "\n",
    "# Идеи что и как анализировать\n",
    "\n",
    "### Показатель `suicides/100k pop`\n",
    "\n",
    "По этому показателю нельзя делать выводы о кол-ве суицидов на 100к в рамках всей страны (потому что каждая группа, разделенная по полу и возрасту, имеет разный размер, и потому вносит разный вклад в суммарный suicides/100k pop по всей стране), и нужно отдельно посчитать этот индекс для всей страны, найдя совокупное (по всем группам) количество суицидов и разделив на совокупное (по всем группам) население. Однако и по исходному (посчитанному отдельно по группам пол+возраст) показателю можно делать какие-то выводы. Например, интересно упорядочить по убыванию этого индекса и посмотреть, какие группы в каких странах и в каком году чаще всего выпиливались:"
   ]
  },
  {
   "cell_type": "code",
   "execution_count": 3,
   "metadata": {
    "ExecuteTime": {
     "end_time": "2019-04-09T11:08:49.603291Z",
     "start_time": "2019-04-09T11:08:49.582188Z"
    }
   },
   "outputs": [
    {
     "data": {
      "text/html": [
       "<div>\n",
       "<style scoped>\n",
       "    .dataframe tbody tr th:only-of-type {\n",
       "        vertical-align: middle;\n",
       "    }\n",
       "\n",
       "    .dataframe tbody tr th {\n",
       "        vertical-align: top;\n",
       "    }\n",
       "\n",
       "    .dataframe thead th {\n",
       "        text-align: right;\n",
       "    }\n",
       "</style>\n",
       "<table border=\"1\" class=\"dataframe\">\n",
       "  <thead>\n",
       "    <tr style=\"text-align: right;\">\n",
       "      <th></th>\n",
       "      <th>country</th>\n",
       "      <th>year</th>\n",
       "      <th>sex</th>\n",
       "      <th>age</th>\n",
       "      <th>suicides_no</th>\n",
       "      <th>population</th>\n",
       "      <th>suicides/100k pop</th>\n",
       "      <th>country-year</th>\n",
       "      <th>HDI for year</th>\n",
       "      <th>gdp_for_year ($)</th>\n",
       "      <th>gdp_per_capita ($)</th>\n",
       "      <th>generation</th>\n",
       "    </tr>\n",
       "  </thead>\n",
       "  <tbody>\n",
       "    <tr>\n",
       "      <th>1258</th>\n",
       "      <td>Aruba</td>\n",
       "      <td>1995</td>\n",
       "      <td>male</td>\n",
       "      <td>75+ years</td>\n",
       "      <td>2</td>\n",
       "      <td>889</td>\n",
       "      <td>224.97</td>\n",
       "      <td>Aruba1995</td>\n",
       "      <td>NaN</td>\n",
       "      <td>1,320,670,391</td>\n",
       "      <td>17949</td>\n",
       "      <td>G.I. Generation</td>\n",
       "    </tr>\n",
       "    <tr>\n",
       "      <th>22280</th>\n",
       "      <td>Seychelles</td>\n",
       "      <td>2006</td>\n",
       "      <td>male</td>\n",
       "      <td>75+ years</td>\n",
       "      <td>2</td>\n",
       "      <td>976</td>\n",
       "      <td>204.92</td>\n",
       "      <td>Seychelles2006</td>\n",
       "      <td>NaN</td>\n",
       "      <td>1,016,418,229</td>\n",
       "      <td>12442</td>\n",
       "      <td>Silent</td>\n",
       "    </tr>\n",
       "    <tr>\n",
       "      <th>24332</th>\n",
       "      <td>Suriname</td>\n",
       "      <td>2012</td>\n",
       "      <td>male</td>\n",
       "      <td>75+ years</td>\n",
       "      <td>10</td>\n",
       "      <td>5346</td>\n",
       "      <td>187.06</td>\n",
       "      <td>Suriname2012</td>\n",
       "      <td>0.711</td>\n",
       "      <td>4,980,000,000</td>\n",
       "      <td>10227</td>\n",
       "      <td>Silent</td>\n",
       "    </tr>\n",
       "    <tr>\n",
       "      <th>20542</th>\n",
       "      <td>Republic of Korea</td>\n",
       "      <td>2011</td>\n",
       "      <td>male</td>\n",
       "      <td>75+ years</td>\n",
       "      <td>1276</td>\n",
       "      <td>688365</td>\n",
       "      <td>185.37</td>\n",
       "      <td>Republic of Korea2011</td>\n",
       "      <td>NaN</td>\n",
       "      <td>1,202,463,682,634</td>\n",
       "      <td>25157</td>\n",
       "      <td>Silent</td>\n",
       "    </tr>\n",
       "    <tr>\n",
       "      <th>20530</th>\n",
       "      <td>Republic of Korea</td>\n",
       "      <td>2010</td>\n",
       "      <td>male</td>\n",
       "      <td>75+ years</td>\n",
       "      <td>1152</td>\n",
       "      <td>631853</td>\n",
       "      <td>182.32</td>\n",
       "      <td>Republic of Korea2010</td>\n",
       "      <td>NaN</td>\n",
       "      <td>1,094,499,338,703</td>\n",
       "      <td>22994</td>\n",
       "      <td>Silent</td>\n",
       "    </tr>\n",
       "    <tr>\n",
       "      <th>11376</th>\n",
       "      <td>Hungary</td>\n",
       "      <td>1992</td>\n",
       "      <td>male</td>\n",
       "      <td>75+ years</td>\n",
       "      <td>317</td>\n",
       "      <td>178482</td>\n",
       "      <td>177.61</td>\n",
       "      <td>Hungary1992</td>\n",
       "      <td>NaN</td>\n",
       "      <td>38,724,945,368</td>\n",
       "      <td>3970</td>\n",
       "      <td>G.I. Generation</td>\n",
       "    </tr>\n",
       "    <tr>\n",
       "      <th>11388</th>\n",
       "      <td>Hungary</td>\n",
       "      <td>1993</td>\n",
       "      <td>male</td>\n",
       "      <td>75+ years</td>\n",
       "      <td>300</td>\n",
       "      <td>168944</td>\n",
       "      <td>177.57</td>\n",
       "      <td>Hungary1993</td>\n",
       "      <td>NaN</td>\n",
       "      <td>40,119,073,326</td>\n",
       "      <td>4116</td>\n",
       "      <td>G.I. Generation</td>\n",
       "    </tr>\n",
       "    <tr>\n",
       "      <th>11364</th>\n",
       "      <td>Hungary</td>\n",
       "      <td>1991</td>\n",
       "      <td>male</td>\n",
       "      <td>75+ years</td>\n",
       "      <td>333</td>\n",
       "      <td>188235</td>\n",
       "      <td>176.91</td>\n",
       "      <td>Hungary1991</td>\n",
       "      <td>NaN</td>\n",
       "      <td>34,748,508,332</td>\n",
       "      <td>3561</td>\n",
       "      <td>G.I. Generation</td>\n",
       "    </tr>\n",
       "    <tr>\n",
       "      <th>20470</th>\n",
       "      <td>Republic of Korea</td>\n",
       "      <td>2005</td>\n",
       "      <td>male</td>\n",
       "      <td>75+ years</td>\n",
       "      <td>780</td>\n",
       "      <td>442349</td>\n",
       "      <td>176.33</td>\n",
       "      <td>Republic of Korea2005</td>\n",
       "      <td>NaN</td>\n",
       "      <td>898,137,194,716</td>\n",
       "      <td>19460</td>\n",
       "      <td>Silent</td>\n",
       "    </tr>\n",
       "    <tr>\n",
       "      <th>11400</th>\n",
       "      <td>Hungary</td>\n",
       "      <td>1994</td>\n",
       "      <td>male</td>\n",
       "      <td>75+ years</td>\n",
       "      <td>292</td>\n",
       "      <td>165660</td>\n",
       "      <td>176.26</td>\n",
       "      <td>Hungary1994</td>\n",
       "      <td>NaN</td>\n",
       "      <td>43,160,392,124</td>\n",
       "      <td>4431</td>\n",
       "      <td>G.I. Generation</td>\n",
       "    </tr>\n",
       "    <tr>\n",
       "      <th>20518</th>\n",
       "      <td>Republic of Korea</td>\n",
       "      <td>2009</td>\n",
       "      <td>male</td>\n",
       "      <td>75+ years</td>\n",
       "      <td>1006</td>\n",
       "      <td>578635</td>\n",
       "      <td>173.86</td>\n",
       "      <td>Republic of Korea2009</td>\n",
       "      <td>NaN</td>\n",
       "      <td>901,934,953,365</td>\n",
       "      <td>19036</td>\n",
       "      <td>Silent</td>\n",
       "    </tr>\n",
       "    <tr>\n",
       "      <th>20494</th>\n",
       "      <td>Republic of Korea</td>\n",
       "      <td>2007</td>\n",
       "      <td>male</td>\n",
       "      <td>75+ years</td>\n",
       "      <td>860</td>\n",
       "      <td>497517</td>\n",
       "      <td>172.86</td>\n",
       "      <td>Republic of Korea2007</td>\n",
       "      <td>NaN</td>\n",
       "      <td>1,122,679,154,632</td>\n",
       "      <td>23982</td>\n",
       "      <td>Silent</td>\n",
       "    </tr>\n",
       "    <tr>\n",
       "      <th>20458</th>\n",
       "      <td>Republic of Korea</td>\n",
       "      <td>2004</td>\n",
       "      <td>male</td>\n",
       "      <td>75+ years</td>\n",
       "      <td>722</td>\n",
       "      <td>417832</td>\n",
       "      <td>172.80</td>\n",
       "      <td>Republic of Korea2004</td>\n",
       "      <td>NaN</td>\n",
       "      <td>764,880,644,711</td>\n",
       "      <td>16708</td>\n",
       "      <td>Silent</td>\n",
       "    </tr>\n",
       "    <tr>\n",
       "      <th>20446</th>\n",
       "      <td>Republic of Korea</td>\n",
       "      <td>2003</td>\n",
       "      <td>male</td>\n",
       "      <td>75+ years</td>\n",
       "      <td>674</td>\n",
       "      <td>394465</td>\n",
       "      <td>170.86</td>\n",
       "      <td>Republic of Korea2003</td>\n",
       "      <td>NaN</td>\n",
       "      <td>680,520,724,062</td>\n",
       "      <td>14971</td>\n",
       "      <td>Silent</td>\n",
       "    </tr>\n",
       "    <tr>\n",
       "      <th>11412</th>\n",
       "      <td>Hungary</td>\n",
       "      <td>1995</td>\n",
       "      <td>male</td>\n",
       "      <td>75+ years</td>\n",
       "      <td>282</td>\n",
       "      <td>169919</td>\n",
       "      <td>165.96</td>\n",
       "      <td>Hungary1995</td>\n",
       "      <td>0.740</td>\n",
       "      <td>46,418,916,500</td>\n",
       "      <td>4767</td>\n",
       "      <td>G.I. Generation</td>\n",
       "    </tr>\n",
       "    <tr>\n",
       "      <th>11460</th>\n",
       "      <td>Hungary</td>\n",
       "      <td>1999</td>\n",
       "      <td>male</td>\n",
       "      <td>75+ years</td>\n",
       "      <td>302</td>\n",
       "      <td>185652</td>\n",
       "      <td>162.67</td>\n",
       "      <td>Hungary1999</td>\n",
       "      <td>NaN</td>\n",
       "      <td>49,170,434,391</td>\n",
       "      <td>5147</td>\n",
       "      <td>G.I. Generation</td>\n",
       "    </tr>\n",
       "    <tr>\n",
       "      <th>11436</th>\n",
       "      <td>Hungary</td>\n",
       "      <td>1997</td>\n",
       "      <td>male</td>\n",
       "      <td>75+ years</td>\n",
       "      <td>296</td>\n",
       "      <td>182808</td>\n",
       "      <td>161.92</td>\n",
       "      <td>Hungary1997</td>\n",
       "      <td>NaN</td>\n",
       "      <td>47,290,180,589</td>\n",
       "      <td>4856</td>\n",
       "      <td>G.I. Generation</td>\n",
       "    </tr>\n",
       "    <tr>\n",
       "      <th>21764</th>\n",
       "      <td>Saint Vincent and Grenadines</td>\n",
       "      <td>2002</td>\n",
       "      <td>male</td>\n",
       "      <td>75+ years</td>\n",
       "      <td>2</td>\n",
       "      <td>1270</td>\n",
       "      <td>157.48</td>\n",
       "      <td>Saint Vincent and Grenadines2002</td>\n",
       "      <td>NaN</td>\n",
       "      <td>461,883,444</td>\n",
       "      <td>4723</td>\n",
       "      <td>Silent</td>\n",
       "    </tr>\n",
       "    <tr>\n",
       "      <th>20506</th>\n",
       "      <td>Republic of Korea</td>\n",
       "      <td>2008</td>\n",
       "      <td>male</td>\n",
       "      <td>75+ years</td>\n",
       "      <td>828</td>\n",
       "      <td>534462</td>\n",
       "      <td>154.92</td>\n",
       "      <td>Republic of Korea2008</td>\n",
       "      <td>NaN</td>\n",
       "      <td>1,002,219,052,968</td>\n",
       "      <td>21278</td>\n",
       "      <td>Silent</td>\n",
       "    </tr>\n",
       "    <tr>\n",
       "      <th>20482</th>\n",
       "      <td>Republic of Korea</td>\n",
       "      <td>2006</td>\n",
       "      <td>male</td>\n",
       "      <td>75+ years</td>\n",
       "      <td>722</td>\n",
       "      <td>466922</td>\n",
       "      <td>154.63</td>\n",
       "      <td>Republic of Korea2006</td>\n",
       "      <td>NaN</td>\n",
       "      <td>1,011,797,457,139</td>\n",
       "      <td>21753</td>\n",
       "      <td>Silent</td>\n",
       "    </tr>\n",
       "  </tbody>\n",
       "</table>\n",
       "</div>"
      ],
      "text/plain": [
       "                            country  year   sex        age  suicides_no  \\\n",
       "1258                          Aruba  1995  male  75+ years            2   \n",
       "22280                    Seychelles  2006  male  75+ years            2   \n",
       "24332                      Suriname  2012  male  75+ years           10   \n",
       "20542             Republic of Korea  2011  male  75+ years         1276   \n",
       "20530             Republic of Korea  2010  male  75+ years         1152   \n",
       "11376                       Hungary  1992  male  75+ years          317   \n",
       "11388                       Hungary  1993  male  75+ years          300   \n",
       "11364                       Hungary  1991  male  75+ years          333   \n",
       "20470             Republic of Korea  2005  male  75+ years          780   \n",
       "11400                       Hungary  1994  male  75+ years          292   \n",
       "20518             Republic of Korea  2009  male  75+ years         1006   \n",
       "20494             Republic of Korea  2007  male  75+ years          860   \n",
       "20458             Republic of Korea  2004  male  75+ years          722   \n",
       "20446             Republic of Korea  2003  male  75+ years          674   \n",
       "11412                       Hungary  1995  male  75+ years          282   \n",
       "11460                       Hungary  1999  male  75+ years          302   \n",
       "11436                       Hungary  1997  male  75+ years          296   \n",
       "21764  Saint Vincent and Grenadines  2002  male  75+ years            2   \n",
       "20506             Republic of Korea  2008  male  75+ years          828   \n",
       "20482             Republic of Korea  2006  male  75+ years          722   \n",
       "\n",
       "       population  suicides/100k pop                      country-year  \\\n",
       "1258          889             224.97                         Aruba1995   \n",
       "22280         976             204.92                    Seychelles2006   \n",
       "24332        5346             187.06                      Suriname2012   \n",
       "20542      688365             185.37             Republic of Korea2011   \n",
       "20530      631853             182.32             Republic of Korea2010   \n",
       "11376      178482             177.61                       Hungary1992   \n",
       "11388      168944             177.57                       Hungary1993   \n",
       "11364      188235             176.91                       Hungary1991   \n",
       "20470      442349             176.33             Republic of Korea2005   \n",
       "11400      165660             176.26                       Hungary1994   \n",
       "20518      578635             173.86             Republic of Korea2009   \n",
       "20494      497517             172.86             Republic of Korea2007   \n",
       "20458      417832             172.80             Republic of Korea2004   \n",
       "20446      394465             170.86             Republic of Korea2003   \n",
       "11412      169919             165.96                       Hungary1995   \n",
       "11460      185652             162.67                       Hungary1999   \n",
       "11436      182808             161.92                       Hungary1997   \n",
       "21764        1270             157.48  Saint Vincent and Grenadines2002   \n",
       "20506      534462             154.92             Republic of Korea2008   \n",
       "20482      466922             154.63             Republic of Korea2006   \n",
       "\n",
       "       HDI for year  gdp_for_year ($)   gdp_per_capita ($)       generation  \n",
       "1258            NaN      1,320,670,391               17949  G.I. Generation  \n",
       "22280           NaN      1,016,418,229               12442           Silent  \n",
       "24332         0.711      4,980,000,000               10227           Silent  \n",
       "20542           NaN  1,202,463,682,634               25157           Silent  \n",
       "20530           NaN  1,094,499,338,703               22994           Silent  \n",
       "11376           NaN     38,724,945,368                3970  G.I. Generation  \n",
       "11388           NaN     40,119,073,326                4116  G.I. Generation  \n",
       "11364           NaN     34,748,508,332                3561  G.I. Generation  \n",
       "20470           NaN    898,137,194,716               19460           Silent  \n",
       "11400           NaN     43,160,392,124                4431  G.I. Generation  \n",
       "20518           NaN    901,934,953,365               19036           Silent  \n",
       "20494           NaN  1,122,679,154,632               23982           Silent  \n",
       "20458           NaN    764,880,644,711               16708           Silent  \n",
       "20446           NaN    680,520,724,062               14971           Silent  \n",
       "11412         0.740     46,418,916,500                4767  G.I. Generation  \n",
       "11460           NaN     49,170,434,391                5147  G.I. Generation  \n",
       "11436           NaN     47,290,180,589                4856  G.I. Generation  \n",
       "21764           NaN        461,883,444                4723           Silent  \n",
       "20506           NaN  1,002,219,052,968               21278           Silent  \n",
       "20482           NaN  1,011,797,457,139               21753           Silent  "
      ]
     },
     "execution_count": 3,
     "metadata": {},
     "output_type": "execute_result"
    }
   ],
   "source": [
    "df.sort_values('suicides/100k pop', ascending=False).head(20)"
   ]
  },
  {
   "cell_type": "markdown",
   "metadata": {},
   "source": [
    "Можно сделать много выводов: первое - в 20 отсортированных по убыванию кол-ва суицидов на 100к группах абсолютно все группы - мужчины 75+ лет. Непонятно, они правда себя убивают, или по каким-то причинам составители датасета относили естественную смерть к суициду? (найти косяк в данных - тоже их анализ, поэтому я бы это написал в отчете). Как аргумент против этой теории - интреесно, что вышеупомянутая повышенная доля суицидов наблюдается в Корее в 2003-2011 годах и в Венгрии в 1992-1999 годах (см. страны в датафрейме выше) (да и тогда бы женщины тоже попали бы тогда). Наверное, какая-то причина этому все же есть.\n",
    "\n",
    "##### Корея \n",
    "Короче я чекнул, и в Корее правда выпиливаются люди, так что мы обнаружили существующую проблему, см https://ru.wikipedia.org/wiki/%D0%A1%D0%B0%D0%BC%D0%BE%D1%83%D0%B1%D0%B8%D0%B9%D1%81%D1%82%D0%B2%D0%B0_%D0%B2_%D0%AE%D0%B6%D0%BD%D0%BE%D0%B9_%D0%9A%D0%BE%D1%80%D0%B5%D0%B5\n",
    "\n",
    "(в частности там написано ***\"Самоубийство — основная причина смерти людей до 40 в Южной Корее.[5] Проблема, однако, стоит ещё острее в более старших возрастных группах. В 2003 году уровень самоубийств среди людей в возрасте 60-74 был в 4,4 раза выше, чем в возрастной группе 15-29 лет, а в группе старше 75 лет в более чем 10,6 раза выше.[7] Более двух третей из них совершаются мужчинами.[9]\")***. А так как мы смотрим именно отношение к населению, поэтому у нас и вылезли дедушки в топ. Круто, когда нашлось объяснение найденной аномалии, поэтому про это обязательно пишите. \n",
    "\n",
    "##### Венгрия\n",
    "\n",
    "Про Венгрию так сразу не нашел, но с Кореей уже круто вышло, надо погуглить Венгрию.\n",
    "\n",
    "https://www.quora.com/Why-does-Hungary-have-one-of-the-highest-suicide-rates-in-the-world Тут венгр какой-то пишет, который сам пытался убиться, что ***The suicide rates in Hungary were supposedly twice as big in the 90s than they are now…***, а у нас как раз 90-е в Венгрии получились, можно на него сослаться в отчете\n",
    "\n",
    "Ну и вообще нужно построить как распределены эти индексы, чтоб понимать, во сколько раз взбушевавшиеся старички превысили норму, boxplot например:"
   ]
  },
  {
   "cell_type": "code",
   "execution_count": 21,
   "metadata": {
    "ExecuteTime": {
     "end_time": "2019-04-09T11:11:04.986816Z",
     "start_time": "2019-04-09T11:11:04.882085Z"
    }
   },
   "outputs": [
    {
     "data": {
      "text/plain": [
       "(0, 55)"
      ]
     },
     "execution_count": 21,
     "metadata": {},
     "output_type": "execute_result"
    },
    {
     "data": {
      "image/png": "[encoded data removed]",
      "text/plain": [
       "<Figure size 432x288 with 1 Axes>"
      ]
     },
     "metadata": {},
     "output_type": "display_data"
    }
   ],
   "source": [
    "sns.boxplot(data=df, y='suicides/100k pop')\n",
    "plt.ylim(0, 55)"
   ]
  },
  {
   "cell_type": "markdown",
   "metadata": {
    "ExecuteTime": {
     "end_time": "2019-04-09T11:11:17.432057Z",
     "start_time": "2019-04-09T11:11:17.428387Z"
    }
   },
   "source": [
    "Или таблицей:"
   ]
  },
  {
   "cell_type": "code",
   "execution_count": 24,
   "metadata": {
    "ExecuteTime": {
     "end_time": "2019-04-09T11:11:31.486021Z",
     "start_time": "2019-04-09T11:11:31.473729Z"
    }
   },
   "outputs": [
    {
     "data": {
      "text/html": [
       "<div>\n",
       "<style scoped>\n",
       "    .dataframe tbody tr th:only-of-type {\n",
       "        vertical-align: middle;\n",
       "    }\n",
       "\n",
       "    .dataframe tbody tr th {\n",
       "        vertical-align: top;\n",
       "    }\n",
       "\n",
       "    .dataframe thead th {\n",
       "        text-align: right;\n",
       "    }\n",
       "</style>\n",
       "<table border=\"1\" class=\"dataframe\">\n",
       "  <thead>\n",
       "    <tr style=\"text-align: right;\">\n",
       "      <th></th>\n",
       "      <th>suicides/100k pop</th>\n",
       "    </tr>\n",
       "  </thead>\n",
       "  <tbody>\n",
       "    <tr>\n",
       "      <th>count</th>\n",
       "      <td>27820.000000</td>\n",
       "    </tr>\n",
       "    <tr>\n",
       "      <th>mean</th>\n",
       "      <td>12.816097</td>\n",
       "    </tr>\n",
       "    <tr>\n",
       "      <th>std</th>\n",
       "      <td>18.961511</td>\n",
       "    </tr>\n",
       "    <tr>\n",
       "      <th>min</th>\n",
       "      <td>0.000000</td>\n",
       "    </tr>\n",
       "    <tr>\n",
       "      <th>25%</th>\n",
       "      <td>0.920000</td>\n",
       "    </tr>\n",
       "    <tr>\n",
       "      <th>50%</th>\n",
       "      <td>5.990000</td>\n",
       "    </tr>\n",
       "    <tr>\n",
       "      <th>75%</th>\n",
       "      <td>16.620000</td>\n",
       "    </tr>\n",
       "    <tr>\n",
       "      <th>max</th>\n",
       "      <td>224.970000</td>\n",
       "    </tr>\n",
       "  </tbody>\n",
       "</table>\n",
       "</div>"
      ],
      "text/plain": [
       "       suicides/100k pop\n",
       "count       27820.000000\n",
       "mean           12.816097\n",
       "std            18.961511\n",
       "min             0.000000\n",
       "25%             0.920000\n",
       "50%             5.990000\n",
       "75%            16.620000\n",
       "max           224.970000"
      ]
     },
     "execution_count": 24,
     "metadata": {},
     "output_type": "execute_result"
    }
   ],
   "source": [
    "df[['suicides/100k pop']].describe()"
   ]
  },
  {
   "cell_type": "markdown",
   "metadata": {},
   "source": [
    "Теперь уже можно сказать, что старики в корее убивались в ~30 раз чаще нормы (так как медиана, как видно выше, равна 6)"
   ]
  },
  {
   "cell_type": "markdown",
   "metadata": {},
   "source": [
    "### Вычислить  `suicides/100k pop` по стране целиком, а не по поло-возрастным группам по-отдельности\n",
    "\n",
    "Сделав это, мы сможем смотреть динамику по всей стране целиком, а не по отдельным группам"
   ]
  },
  {
   "cell_type": "code",
   "execution_count": 4,
   "metadata": {
    "ExecuteTime": {
     "end_time": "2019-04-09T11:08:51.018738Z",
     "start_time": "2019-04-09T11:08:50.984535Z"
    }
   },
   "outputs": [
    {
     "data": {
      "text/html": [
       "<div>\n",
       "<style scoped>\n",
       "    .dataframe tbody tr th:only-of-type {\n",
       "        vertical-align: middle;\n",
       "    }\n",
       "\n",
       "    .dataframe tbody tr th {\n",
       "        vertical-align: top;\n",
       "    }\n",
       "\n",
       "    .dataframe thead th {\n",
       "        text-align: right;\n",
       "    }\n",
       "</style>\n",
       "<table border=\"1\" class=\"dataframe\">\n",
       "  <thead>\n",
       "    <tr style=\"text-align: right;\">\n",
       "      <th></th>\n",
       "      <th>country</th>\n",
       "      <th>year</th>\n",
       "      <th>population</th>\n",
       "      <th>suicides_no</th>\n",
       "      <th>suicides/100k</th>\n",
       "    </tr>\n",
       "  </thead>\n",
       "  <tbody>\n",
       "    <tr>\n",
       "      <th>0</th>\n",
       "      <td>Albania</td>\n",
       "      <td>1987</td>\n",
       "      <td>2709600</td>\n",
       "      <td>73</td>\n",
       "      <td>2.694125</td>\n",
       "    </tr>\n",
       "    <tr>\n",
       "      <th>1</th>\n",
       "      <td>Albania</td>\n",
       "      <td>1988</td>\n",
       "      <td>2764300</td>\n",
       "      <td>63</td>\n",
       "      <td>2.279058</td>\n",
       "    </tr>\n",
       "    <tr>\n",
       "      <th>2</th>\n",
       "      <td>Albania</td>\n",
       "      <td>1989</td>\n",
       "      <td>2803100</td>\n",
       "      <td>68</td>\n",
       "      <td>2.425886</td>\n",
       "    </tr>\n",
       "    <tr>\n",
       "      <th>3</th>\n",
       "      <td>Albania</td>\n",
       "      <td>1992</td>\n",
       "      <td>2822500</td>\n",
       "      <td>47</td>\n",
       "      <td>1.665190</td>\n",
       "    </tr>\n",
       "    <tr>\n",
       "      <th>4</th>\n",
       "      <td>Albania</td>\n",
       "      <td>1993</td>\n",
       "      <td>2807300</td>\n",
       "      <td>73</td>\n",
       "      <td>2.600363</td>\n",
       "    </tr>\n",
       "  </tbody>\n",
       "</table>\n",
       "</div>"
      ],
      "text/plain": [
       "   country  year  population  suicides_no  suicides/100k\n",
       "0  Albania  1987     2709600           73       2.694125\n",
       "1  Albania  1988     2764300           63       2.279058\n",
       "2  Albania  1989     2803100           68       2.425886\n",
       "3  Albania  1992     2822500           47       1.665190\n",
       "4  Albania  1993     2807300           73       2.600363"
      ]
     },
     "execution_count": 4,
     "metadata": {},
     "output_type": "execute_result"
    }
   ],
   "source": [
    "#Сгруппируем исходные данные по стране и году, внутри групп просуммируем население и количество суицидов\n",
    "populations = df.groupby(['country', 'year'])['population'].sum().reset_index()\n",
    "suicides = df.groupby(['country', 'year'])['suicides_no'].sum().reset_index()\n",
    "\n",
    "agg_country_year = populations.merge(suicides, on=['country', 'year'], how='inner')\n",
    "#Вычислим suicides/100k по всей стране без привязки к возрастной группе:\n",
    "agg_country_year['suicides/100k'] = agg_country_year['suicides_no'] / agg_country_year['population'] * 100000\n",
    "agg_country_year.head()"
   ]
  },
  {
   "cell_type": "markdown",
   "metadata": {},
   "source": [
    "Что с этим можно делать? Можно теперь построить динамику кол-ва самоубийств на 100к человек по конкретной стране в разрезе разных лет. Главное, чтоб там наблюдались какие-то тренды, чтоб выглядело красиво, тогда такую страну можно засунуть в отчет "
   ]
  },
  {
   "cell_type": "code",
   "execution_count": 5,
   "metadata": {
    "ExecuteTime": {
     "end_time": "2019-04-09T11:08:52.120204Z",
     "start_time": "2019-04-09T11:08:51.972714Z"
    }
   },
   "outputs": [
    {
     "data": {
      "text/plain": [
       "<matplotlib.axes._subplots.AxesSubplot at 0x11a2155f8>"
      ]
     },
     "execution_count": 5,
     "metadata": {},
     "output_type": "execute_result"
    },
    {
     "data": {
      "image/png": "[encoded data removed]",
      "text/plain": [
       "<Figure size 432x288 with 1 Axes>"
      ]
     },
     "metadata": {
      "needs_background": "light"
     },
     "output_type": "display_data"
    }
   ],
   "source": [
    "#Например, норм получается с Россией - резкий рост с пиком в 1994, а с 2001 наблюдается только падение\n",
    "agg_country_year[agg_country_year.country == 'Russian Federation'].set_index('year')['suicides/100k'].plot(kind='line', style='.-')"
   ]
  },
  {
   "cell_type": "code",
   "execution_count": 6,
   "metadata": {
    "ExecuteTime": {
     "end_time": "2019-04-09T11:08:52.807642Z",
     "start_time": "2019-04-09T11:08:52.682939Z"
    }
   },
   "outputs": [
    {
     "data": {
      "text/plain": [
       "<matplotlib.axes._subplots.AxesSubplot at 0x10a2e6e48>"
      ]
     },
     "execution_count": 6,
     "metadata": {},
     "output_type": "execute_result"
    },
    {
     "data": {
      "image/png": "[encoded data removed]",
      "text/plain": [
       "<Figure size 432x288 with 1 Axes>"
      ]
     },
     "metadata": {
      "needs_background": "light"
     },
     "output_type": "display_data"
    }
   ],
   "source": [
    "#А в Нидерландах с 2007 года почему-то все резко стали убиваться\n",
    "agg_country_year[agg_country_year.country == 'Netherlands'].set_index('year')['suicides/100k'].plot(kind='line', style='.-')"
   ]
  },
  {
   "cell_type": "markdown",
   "metadata": {},
   "source": [
    "Можно разные страны попробовать, где-то получится прикольно\n",
    "\n",
    "### Зафиксировать год и посмотреть частоту самоубийств на 100к населения в зависимости от страны\n",
    "\n",
    "Предварительно нужно оставить страны с большим населением, чтоб мелкие страны, в которых убились два Ивана (в пределах погрешности) не вылезли в топ. Год лучше взять посвежее, чтоб получить наиболее похожую на сегодня картину"
   ]
  },
  {
   "cell_type": "code",
   "execution_count": 7,
   "metadata": {
    "ExecuteTime": {
     "end_time": "2019-04-09T11:08:53.992459Z",
     "start_time": "2019-04-09T11:08:53.643479Z"
    }
   },
   "outputs": [
    {
     "data": {
      "text/plain": [
       "<matplotlib.axes._subplots.AxesSubplot at 0x1a1d50b780>"
      ]
     },
     "execution_count": 7,
     "metadata": {},
     "output_type": "execute_result"
    },
    {
     "data": {
      "image/png": "[encoded data removed]",
      "text/plain": [
       "<Figure size 1080x432 with 1 Axes>"
      ]
     },
     "metadata": {
      "needs_background": "light"
     },
     "output_type": "display_data"
    }
   ],
   "source": [
    "fig = plt.figure(figsize=(15,6))\n",
    "agg_country_year[(agg_country_year.population > 10000000) & (agg_country_year.year == 2010)].set_index('country')['suicides/100k'].sort_values(ascending=False).plot(kind='bar', title='Number of suicides per 100k, country population > 10000000')"
   ]
  },
  {
   "cell_type": "markdown",
   "metadata": {
    "ExecuteTime": {
     "end_time": "2019-04-08T22:40:51.455612Z",
     "start_time": "2019-04-08T22:40:51.451206Z"
    }
   },
   "source": [
    "Из интересного - второй после Кореи, про самоубийства в которой даже статью на википедии написали, настолько там все херово с этим, идет Россия. \n",
    "\n",
    "### Кол-во суицидов во всем мире по годам\n",
    "\n",
    "А какова динамика количества самоубийств во всем мире? Можно просуммировать количество самоубийств во всем мире по годам, просуммировать население в мире (ну на самом деле конечно не во всем мире, а в тех странах, которые есть в данных, а в данных где-то четверть всего населения только, но учитывая, что в них представлены страны разного уровня жизни и частей света, можно рискнуть обобщить на весь мир), разделить одно на другое, получить количество самоубийств на 100к по всему миру, и посмотреть, как в зависимости от года изменяется эта величина:"
   ]
  },
  {
   "cell_type": "code",
   "execution_count": 8,
   "metadata": {
    "ExecuteTime": {
     "end_time": "2019-04-09T11:08:54.224022Z",
     "start_time": "2019-04-09T11:08:54.059485Z"
    }
   },
   "outputs": [
    {
     "data": {
      "text/plain": [
       "<matplotlib.axes._subplots.AxesSubplot at 0x1a1da3add8>"
      ]
     },
     "execution_count": 8,
     "metadata": {},
     "output_type": "execute_result"
    },
    {
     "data": {
      "image/png": "[encoded data removed]",
      "text/plain": [
       "<Figure size 432x288 with 1 Axes>"
      ]
     },
     "metadata": {
      "needs_background": "light"
     },
     "output_type": "display_data"
    }
   ],
   "source": [
    "(agg_country_year.groupby('year')['suicides_no'].sum() / agg_country_year.groupby('year')['population'].sum()*100000).plot(kind='area')"
   ]
  },
  {
   "cell_type": "markdown",
   "metadata": {},
   "source": [
    "Получается, что в 1985 и 2016 году количество самоубийств на 100к во всем мире примерно одинаково, однако в промежутке между этими годами наблюдался сначала правный рост, а потом падение. Пик частоты самоубийств в мире пришелся на 1995 год"
   ]
  },
  {
   "cell_type": "markdown",
   "metadata": {},
   "source": [
    "# Присоединение дополнительных таблиц\n",
    "\n",
    "### GDP"
   ]
  },
  {
   "cell_type": "code",
   "execution_count": 9,
   "metadata": {
    "ExecuteTime": {
     "end_time": "2019-04-09T11:08:55.313463Z",
     "start_time": "2019-04-09T11:08:55.298967Z"
    }
   },
   "outputs": [
    {
     "data": {
      "text/html": [
       "<div>\n",
       "<style scoped>\n",
       "    .dataframe tbody tr th:only-of-type {\n",
       "        vertical-align: middle;\n",
       "    }\n",
       "\n",
       "    .dataframe tbody tr th {\n",
       "        vertical-align: top;\n",
       "    }\n",
       "\n",
       "    .dataframe thead th {\n",
       "        text-align: right;\n",
       "    }\n",
       "</style>\n",
       "<table border=\"1\" class=\"dataframe\">\n",
       "  <thead>\n",
       "    <tr style=\"text-align: right;\">\n",
       "      <th></th>\n",
       "      <th>country</th>\n",
       "      <th>year</th>\n",
       "      <th>population</th>\n",
       "      <th>suicides_no</th>\n",
       "      <th>suicides/100k</th>\n",
       "      <th>gdp_per_capita ($)</th>\n",
       "    </tr>\n",
       "  </thead>\n",
       "  <tbody>\n",
       "    <tr>\n",
       "      <th>0</th>\n",
       "      <td>Albania</td>\n",
       "      <td>1987</td>\n",
       "      <td>2709600</td>\n",
       "      <td>73</td>\n",
       "      <td>2.694125</td>\n",
       "      <td>796</td>\n",
       "    </tr>\n",
       "    <tr>\n",
       "      <th>1</th>\n",
       "      <td>Albania</td>\n",
       "      <td>1988</td>\n",
       "      <td>2764300</td>\n",
       "      <td>63</td>\n",
       "      <td>2.279058</td>\n",
       "      <td>769</td>\n",
       "    </tr>\n",
       "    <tr>\n",
       "      <th>2</th>\n",
       "      <td>Albania</td>\n",
       "      <td>1989</td>\n",
       "      <td>2803100</td>\n",
       "      <td>68</td>\n",
       "      <td>2.425886</td>\n",
       "      <td>833</td>\n",
       "    </tr>\n",
       "    <tr>\n",
       "      <th>3</th>\n",
       "      <td>Albania</td>\n",
       "      <td>1992</td>\n",
       "      <td>2822500</td>\n",
       "      <td>47</td>\n",
       "      <td>1.665190</td>\n",
       "      <td>251</td>\n",
       "    </tr>\n",
       "    <tr>\n",
       "      <th>4</th>\n",
       "      <td>Albania</td>\n",
       "      <td>1993</td>\n",
       "      <td>2807300</td>\n",
       "      <td>73</td>\n",
       "      <td>2.600363</td>\n",
       "      <td>437</td>\n",
       "    </tr>\n",
       "  </tbody>\n",
       "</table>\n",
       "</div>"
      ],
      "text/plain": [
       "   country  year  population  suicides_no  suicides/100k  gdp_per_capita ($)\n",
       "0  Albania  1987     2709600           73       2.694125                 796\n",
       "1  Albania  1988     2764300           63       2.279058                 769\n",
       "2  Albania  1989     2803100           68       2.425886                 833\n",
       "3  Albania  1992     2822500           47       1.665190                 251\n",
       "4  Albania  1993     2807300           73       2.600363                 437"
      ]
     },
     "execution_count": 9,
     "metadata": {},
     "output_type": "execute_result"
    }
   ],
   "source": [
    "agg_country_year = agg_country_year.merge(df[['country', 'year', 'gdp_per_capita ($)']].drop_duplicates(), on=['country', 'year'], how='left')\n",
    "agg_country_year.head()"
   ]
  },
  {
   "cell_type": "code",
   "execution_count": 10,
   "metadata": {
    "ExecuteTime": {
     "end_time": "2019-04-09T11:08:56.110294Z",
     "start_time": "2019-04-09T11:08:55.920043Z"
    }
   },
   "outputs": [
    {
     "data": {
      "text/plain": [
       "(-10000, 130000)"
      ]
     },
     "execution_count": 10,
     "metadata": {},
     "output_type": "execute_result"
    },
    {
     "data": {
      "image/png": "[encoded data removed]",
      "text/plain": [
       "<Figure size 1080x432 with 1 Axes>"
      ]
     },
     "metadata": {
      "needs_background": "light"
     },
     "output_type": "display_data"
    }
   ],
   "source": [
    "fig = plt.figure(figsize=(15,6))\n",
    "plt.scatter(agg_country_year['gdp_per_capita ($)'], agg_country_year['suicides/100k'])\n",
    "plt.xlabel('GDP per capita ($)')\n",
    "plt.ylabel('Suicides per 100k')\n",
    "plt.hlines(y=30, xmin=-10000, xmax=150000, linewidth=3)\n",
    "plt.xlim([-10000, 130000])"
   ]
  },
  {
   "cell_type": "markdown",
   "metadata": {},
   "source": [
    "Линейной зависимости никакой не видно, но можно сказать, что большинство экстремально больших значений suicides/100k (ну 30+ например, я их линией отделил) достигаются в странах с низким GDP per capita"
   ]
  },
  {
   "cell_type": "markdown",
   "metadata": {},
   "source": [
    "### HDI"
   ]
  },
  {
   "cell_type": "code",
   "execution_count": 11,
   "metadata": {
    "ExecuteTime": {
     "end_time": "2019-04-09T11:08:57.132986Z",
     "start_time": "2019-04-09T11:08:57.008727Z"
    }
   },
   "outputs": [],
   "source": [
    "hdi = pd.read_csv('data/Human development index (HDI).csv', encoding='cp1251')\n",
    "\n",
    "vals = []\n",
    "for i, row in hdi.iterrows():\n",
    "    for col in hdi.columns[2:]:\n",
    "        if pd.notnull(row[col]):\n",
    "            vals.append({'country':row['Country'].strip(), 'year':col, 'HDI':row[col]})\n",
    "hdi = pd.DataFrame(vals)\n",
    "hdi['year'] = hdi['year'].astype(int)\n",
    "hdi['country'] = hdi['country'].replace({'Czechia':'Czech Republic',\n",
    "                                        'Korea (Republic of)':'Republic of Korea',\n",
    "                                        })"
   ]
  },
  {
   "cell_type": "code",
   "execution_count": 12,
   "metadata": {
    "ExecuteTime": {
     "end_time": "2019-04-09T11:08:57.176293Z",
     "start_time": "2019-04-09T11:08:57.169072Z"
    }
   },
   "outputs": [],
   "source": [
    "agg_country_year = agg_country_year.merge(hdi, on=['country', 'year'], how='left')"
   ]
  },
  {
   "cell_type": "code",
   "execution_count": 13,
   "metadata": {
    "ExecuteTime": {
     "end_time": "2019-04-09T11:08:57.951301Z",
     "start_time": "2019-04-09T11:08:57.798174Z"
    }
   },
   "outputs": [
    {
     "data": {
      "text/plain": [
       "<matplotlib.collections.PathCollection at 0x1a1edc2320>"
      ]
     },
     "execution_count": 13,
     "metadata": {},
     "output_type": "execute_result"
    },
    {
     "data": {
      "image/png": "[encoded data removed]",
      "text/plain": [
       "<Figure size 432x288 with 1 Axes>"
      ]
     },
     "metadata": {
      "needs_background": "light"
     },
     "output_type": "display_data"
    }
   ],
   "source": [
    "plt.scatter(agg_country_year['HDI'], agg_country_year['suicides/100k'])\n",
    "# С HDI ничего не удалось интересного найти ((((("
   ]
  },
  {
   "cell_type": "markdown",
   "metadata": {},
   "source": [
    "### Mean years of schooling"
   ]
  },
  {
   "cell_type": "code",
   "execution_count": 14,
   "metadata": {
    "ExecuteTime": {
     "end_time": "2019-04-09T11:08:58.486673Z",
     "start_time": "2019-04-09T11:08:58.252509Z"
    }
   },
   "outputs": [],
   "source": [
    "school_years = pd.read_csv('data/Mean years of schooling (years).csv', encoding='cp1251')\n",
    "\n",
    "vals = []\n",
    "for i, row in school_years.iterrows():\n",
    "    for col in school_years.columns[2:]:\n",
    "        if pd.notnull(row[col]):\n",
    "            vals.append({'country':row['Country'].strip(), 'year':col, 'mean_school_years':row[col]})\n",
    "school_years = pd.DataFrame(vals)\n",
    "school_years = school_years[school_years.year != 'Unnamed: 57']\n",
    "school_years['year'] = school_years['year'].astype(int)\n",
    "school_years['country'] = school_years['country'].replace({'Czechia':'Czech Republic',\n",
    "                                        'Korea (Republic of)':'Republic of Korea',\n",
    "                                        })\n",
    "school_years['mean_school_years'] = school_years['mean_school_years'].astype(float)"
   ]
  },
  {
   "cell_type": "code",
   "execution_count": 15,
   "metadata": {
    "ExecuteTime": {
     "end_time": "2019-04-09T11:08:58.936988Z",
     "start_time": "2019-04-09T11:08:58.930263Z"
    }
   },
   "outputs": [],
   "source": [
    "agg_country_year = agg_country_year.merge(school_years, on=['country', 'year'], how='left')"
   ]
  },
  {
   "cell_type": "markdown",
   "metadata": {
    "ExecuteTime": {
     "end_time": "2019-04-09T10:34:18.919870Z",
     "start_time": "2019-04-09T10:34:18.914929Z"
    }
   },
   "source": [
    "Посмотрим, есть ли зависимость между средним количеством лет, проведенным в школе, и количеством самоубийств на 100к населения. Лучше зафиксировать один год и посмотреть на зависимость только по нему, потому что если брать без привязки к году, то разные страны могут повторяться разное число раз, и если в стране какое-то аномальное соотношение исследуемых величин, а значения по ней есть для большего числа годов, чем в среднем, то коэффициент корреляции будет смещен из-за повышенного влияния отдельной страны"
   ]
  },
  {
   "cell_type": "code",
   "execution_count": 16,
   "metadata": {
    "ExecuteTime": {
     "end_time": "2019-04-09T11:08:59.521977Z",
     "start_time": "2019-04-09T11:08:59.330438Z"
    }
   },
   "outputs": [
    {
     "data": {
      "text/plain": [
       "[<matplotlib.lines.Line2D at 0x1a1edecdd8>]"
      ]
     },
     "execution_count": 16,
     "metadata": {},
     "output_type": "execute_result"
    },
    {
     "data": {
      "image/png": "[encoded data removed]",
      "text/plain": [
       "<Figure size 720x504 with 1 Axes>"
      ]
     },
     "metadata": {
      "needs_background": "light"
     },
     "output_type": "display_data"
    }
   ],
   "source": [
    "world_school_years_2011 = agg_country_year[(agg_country_year.mean_school_years.notnull()) & (agg_country_year.year == 2011)]['mean_school_years'].values\n",
    "world_suicide_rates_2011 = agg_country_year[(agg_country_year.mean_school_years.notnull()) & (agg_country_year.year == 2011)]['suicides/100k'].values\n",
    "\n",
    "lr = LinearRegression()\n",
    "lr.fit(world_school_years_2011.reshape(-1,1), world_suicide_rates_2011.reshape(-1,1))\n",
    "lr_coef = lr.coef_[0][0]\n",
    "lr_intercept = lr.intercept_[0]\n",
    "\n",
    "fig = plt.figure(figsize=(10,7))\n",
    "plt.scatter(world_school_years_2011, world_suicide_rates_2011)\n",
    "plt.xlabel('Mean school years')\n",
    "plt.ylabel('Suicides per 100k')\n",
    "plt.title('Suicides per 100k vs Mean school years')\n",
    "plt.plot([world_school_years_2011.min(), world_school_years_2011.max()], [world_school_years_2011.min()*lr_coef+lr_intercept,world_school_years_2011.max()*lr_coef+lr_intercept], color='blue', linewidth=5)\n"
   ]
  },
  {
   "cell_type": "code",
   "execution_count": 17,
   "metadata": {
    "ExecuteTime": {
     "end_time": "2019-04-09T11:08:59.913315Z",
     "start_time": "2019-04-09T11:08:59.907419Z"
    }
   },
   "outputs": [
    {
     "name": "stdout",
     "output_type": "stream",
     "text": [
      "Коэффициент корреляции равен 0.45742620222953595\n"
     ]
    }
   ],
   "source": [
    "print(f'Коэффициент корреляции равен {np.corrcoef(world_school_years_2011, world_suicide_rates_2011)[0][1]}')"
   ]
  },
  {
   "cell_type": "markdown",
   "metadata": {
    "ExecuteTime": {
     "end_time": "2019-04-09T11:05:55.267943Z",
     "start_time": "2019-04-09T11:05:55.264068Z"
    }
   },
   "source": [
    "Получается, что чем больше лет учатся в школе, чем чаще совершают суициды (коэффициент корреляции довольно большой получился)"
   ]
  }
 ],
 "metadata": {
  "kernelspec": {
   "display_name": "Python 3",
   "language": "python",
   "name": "python3"
  },
  "language_info": {
   "codemirror_mode": {
    "name": "ipython",
    "version": 3
   },
   "file_extension": ".py",
   "mimetype": "text/x-python",
   "name": "python",
   "nbconvert_exporter": "python",
   "pygments_lexer": "ipython3",
   "version": "3.7.1"
  }
 },
 "nbformat": 4,
 "nbformat_minor": 2
}
