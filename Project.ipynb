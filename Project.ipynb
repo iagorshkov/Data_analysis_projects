{
 "cells": [
  {
   "cell_type": "markdown",
   "metadata": {},
   "source": [
    "# Problem statement\n",
    "\n",
    "Our goal is to create a model that can predict the result of football matches using statistics of shots. Very often it happens that a result of a football match does not reflect the essence of what was happening. It's a common situation, when the final score is, for example, 0-0, and, at the same time, the first team didn't leave the opposite side of the pitch, while the second team \"packed the bus\" in front of their goal."
   ]
  },
  {
   "cell_type": "markdown",
   "metadata": {},
   "source": [
    "# Getting the data"
   ]
  },
  {
   "cell_type": "code",
   "execution_count": 44,
   "metadata": {
    "collapsed": true
   },
   "outputs": [],
   "source": [
    "import matplotlib.image as image\n",
    "from matplotlib import pyplot as plt\n",
    "import pylab\n",
    "%matplotlib inline\n",
    "import requests\n",
    "import re\n",
    "import json\n",
    "import pandas as pd\n",
    "from selenium import webdriver\n",
    "from time import sleep\n",
    "headers = {'User-Agent': 'Mozilla/5.0 (X11; Ubuntu; Linux x86_64; rv:45.0) Gecko/20100101 Firefox/45.0',\n",
    "           'Cookie':'_ga=GA1.2.1788983733.1494503736; __gads=ID=2e4df19361f00591:T=1494503737:S=ALNI_MZ7Jd9M7q36WcBgqgMh0yJSQNa6Wg; visid_incap_774904=aGiPnvmhSRGPczacK1cgNAX6FVkAAAAAQUIPAAAAAADmwCV94oxpNGVNRrg+85Nz; visid_incap_774906=oDRL9OxQTfe/VVjCv89aQrQMFlkAAAAAQUIPAAAAAAAiSlrJLiCEdb8MIUmclKOM; vg=75ef9e42-4041-498a-ad3e-11d0dfda90bc; ip=1845259694; vl=1:-3.00|2:RU|3:MOSKVA|4:|5:MOSKVA/|6:MOSKVA/MOSCOW|7:101990|!0; vd=mgts.ru; incap_ses_580_774904=f6NkYU1V3BOczXPdKZMMCDA4SFkAAAAADbatmVBaxc34df1J9oYPjQ==; _gid=GA1.2.2091836470.1497905203'}"
   ]
  },
  {
   "cell_type": "markdown",
   "metadata": {},
   "source": [
    "First of all, let's write a function that extracts information about a particular match from WhoScored given its id:"
   ]
  },
  {
   "cell_type": "code",
   "execution_count": 6,
   "metadata": {
    "collapsed": true
   },
   "outputs": [],
   "source": [
    "def get_match_info(match_url):\n",
    "    response = requests.get(match_url,headers=headers)\n",
    "    regex = re.compile(\"var matchCentreData = (\\{.+\\});\\r\\n        var matchCentreEventTypeJson\", re.S)\n",
    "    match = re.search(regex, response.text)\n",
    "    match_id = re.findall(r'\\d+', match_url)[0]\n",
    "    match_dict = json.loads(match.groups(1)[0])\n",
    "    match_dict['match_id'] = match_id\n",
    "    \n",
    "    teams_info = re.findall('matchHeader.load\\(\\[(.+)\\]\\r', response.text)[0].split(',')\n",
    "    match_dict['home_team_name'] = teams_info[2][1:-1]\n",
    "    match_dict['away_team_name'] = teams_info[3][1:-1]\n",
    "\n",
    "    return match_dict"
   ]
  },
  {
   "cell_type": "markdown",
   "metadata": {},
   "source": [
    "The output result is a huge list of information about each event that occurred during the match. Every event is given a list of numbers *satisfiedEventsTypes*, characterizing its type (for example, 7 means that some event describes shotOnPost, 11 - right-footed shot). For example, 'satisfiedEventsTypes': [90, 116, 29, 34, 36, 215, 217] means that this event is an accurate short BackPass made in the mid third of the pitch. See *matchCentreEventType.txt* for the full list of attributes. "
   ]
  },
  {
   "cell_type": "markdown",
   "metadata": {},
   "source": [
    "Since we are interested only in shots, we need to handle events that contain 9 (\"shotsTotal\" events)."
   ]
  },
  {
   "cell_type": "code",
   "execution_count": 3,
   "metadata": {
    "collapsed": true
   },
   "outputs": [],
   "source": [
    "def parse_shots_from_match(match_info):\n",
    "    match_id = match_info['match_id']\n",
    "    home_id = match_info['home']['teamId']\n",
    "    away_id = match_info['away']['teamId']\n",
    "    player_ids = match_info['playerIdNameDictionary']\n",
    "    \n",
    "    shots = []\n",
    "    for event in match_info['events']:\n",
    "        if 9 in event['satisfiedEventsTypes']:\n",
    "            minute = event['minute']\n",
    "            \n",
    "            player_id = str(event['playerId'])\n",
    "            player_name = player_ids[player_id]\n",
    "            x_coord = event['x']\n",
    "            y_coord = event['y']\n",
    "        \n",
    "            goalMouthY = ''\n",
    "            goalMouthZ = ''\n",
    "            try:\n",
    "                goalMouthY = event['goalMouthY']\n",
    "                goalMouthZ = event['goalMouthZ']\n",
    "            except:\n",
    "                pass\n",
    "        \n",
    "            is_big_chance = 0\n",
    "            is_from_corner = 0\n",
    "            is_freekick = 0\n",
    "            is_penalty = 0\n",
    "            if 'qualifiers'  in event:\n",
    "                for q in event['qualifiers']:\n",
    "                    if q['type']['displayName'] == 'BigChance':\n",
    "                        is_big_chance = 1\n",
    "                    if q['type']['displayName'] == 'FromCorner':\n",
    "                        is_from_corner = 1\n",
    "                    if q['type']['displayName'] ==  'DirectFreekick':\n",
    "                        is_freekick = 1\n",
    "                    if q['type']['displayName'] == 'Penalty':\n",
    "                        is_penalty = 1\n",
    "        \n",
    "            is_open_play = int(3 in event['satisfiedEventsTypes'])\n",
    "            is_counter = int(4 in event['satisfiedEventsTypes'])\n",
    "            is_set_piece = int(5 in event['satisfiedEventsTypes'])\n",
    "            is_goal = int(('isGoal' in event) and (event['isGoal']==True))\n",
    "            is_shot_on_target = int(8 in event['satisfiedEventsTypes'])\n",
    "            is_blocked = int(10 in event['satisfiedEventsTypes'])\n",
    "        \n",
    "            shot_type = 0\n",
    "            if 11 in event['satisfiedEventsTypes']:\n",
    "                shot_type = 1\n",
    "            if 12 in event['satisfiedEventsTypes']:\n",
    "                shot_type = 1\n",
    "            if 13 in event['satisfiedEventsTypes']:\n",
    "                shot_type = 2\n",
    "        \n",
    "            shots.append([match_id, event['teamId'], player_id, player_name, minute, x_coord, y_coord, goalMouthY, goalMouthZ,\n",
    "                          shot_type, is_big_chance, is_from_corner, is_open_play, is_counter, is_set_piece, is_freekick, \n",
    "                          is_penalty, is_shot_on_target, is_blocked, is_goal])\n",
    "\n",
    "    return shots"
   ]
  },
  {
   "cell_type": "code",
   "execution_count": 4,
   "metadata": {
    "collapsed": true
   },
   "outputs": [],
   "source": [
    "def represent(shots_list):\n",
    "    return pd.DataFrame(shots_list, columns=['match_id', 'team_id', 'player_id', 'player_name', 'minute', 'x', 'y', \n",
    "                'goalMouthY', 'goalMouthZ', 'shot_type', 'is_big_chance', 'is_from_corner', 'is_open_play', 'is_counter', \n",
    "                'is_set_piece', 'is_freekick', 'is_penalty', 'is_on_target', 'is_blocked', 'is_goal'])"
   ]
  },
  {
   "cell_type": "markdown",
   "metadata": {},
   "source": [
    "Now we have an instrument to get all the needed information about a particular football match. But we are going to parse hundreds of matches, so we should create something to extract many ids per one action, without collecting them manually. The best way to do that is to use Selenium:"
   ]
  },
  {
   "cell_type": "code",
   "execution_count": 5,
   "metadata": {
    "collapsed": true
   },
   "outputs": [],
   "source": [
    "def get_tournament_urls(tournament_url):\n",
    "    driver = webdriver.Chrome('/home/saint/Рабочий стол/chromedriver')\n",
    "    driver.get(tournament_url)\n",
    "    \n",
    "    match_urls = []\n",
    "    \n",
    "    while True:\n",
    "        month = driver.find_elements_by_class_name(\"text\")[4].text\n",
    "        matches = driver.find_elements_by_class_name(\"result-1\")\n",
    "        for match in matches:\n",
    "            match_urls.append(match.get_attribute('href'))\n",
    "        driver.find_element_by_xpath(\"\"\"//*[@id=\"date-controller\"]/a[1]\"\"\").click()\n",
    "        month_new = driver.find_elements_by_class_name(\"text\")[4].text\n",
    "        if month_new == month:\n",
    "            break\n",
    "        month = month_new\n",
    "        sleep(2)\n",
    "    return match_urls"
   ]
  },
  {
   "cell_type": "code",
   "execution_count": 6,
   "metadata": {
    "collapsed": true
   },
   "outputs": [],
   "source": [
    "matches = get_tournament_urls('https://www.whoscored.com/Regions/182/Tournaments/77/Seasons/6357/Stages/13823/Fixtures/Russia-Premier-League-2016-2017')"
   ]
  },
  {
   "cell_type": "code",
   "execution_count": 7,
   "metadata": {
    "scrolled": true
   },
   "outputs": [
    {
     "name": "stderr",
     "output_type": "stream",
     "text": [
      "100%|██████████| 240/240 [09:58<00:00,  2.34s/it]\n"
     ]
    }
   ],
   "source": [
    "from tqdm import tqdm\n",
    "shots = []\n",
    "for match in tqdm(matches):\n",
    "    try:\n",
    "        shots += parse_shots_from_match(get_match_info(match))\n",
    "        sleep(0.5)\n",
    "    except:\n",
    "        pass"
   ]
  },
  {
   "cell_type": "code",
   "execution_count": 8,
   "metadata": {
    "collapsed": true
   },
   "outputs": [],
   "source": [
    "pd.DataFrame(shots, columns=['match_id', 'team_id', 'player_id', 'player_name', 'minute', 'x', 'y', 'goalMouthY', 'goalMouthZ', 'shot_type', 'is_big_chance', 'is_from_corner', 'is_open_play', 'is_counter', 'is_set_piece', 'is_freekick', 'is_penalty', 'is_on_target', 'is_blocked', 'is_goal']).to_csv('data/shots_rfpl_2016-2017.csv', index=False)"
   ]
  },
  {
   "cell_type": "markdown",
   "metadata": {},
   "source": [
    "# Dataset summary\n",
    "\n",
    "We used parser described above to download information about shots from top-3 leagues (EPL, La Liga, Bundesliga) from 2010-2017 seasons, 198740 in total. The number of features is 20 (match id, team id, player id, player name, minute, coordinates, shot type, is big chance, is from corner, is open play, is counter, is set piece, is freekick, is penalty, is on target, is blocked, is goal)"
   ]
  },
  {
   "cell_type": "markdown",
   "metadata": {},
   "source": [
    "#  Training the model\n",
    "\n",
    "So, we need to predict the probability, that given shot would lead to a goal. We decided to use Logistic regression for this task."
   ]
  },
  {
   "cell_type": "markdown",
   "metadata": {},
   "source": [
    "First of all, we need to concatenate all the data csv files (as we have a separate csv for each season)."
   ]
  },
  {
   "cell_type": "code",
   "execution_count": 7,
   "metadata": {
    "collapsed": true
   },
   "outputs": [],
   "source": [
    "import numpy as np\n",
    "from os import listdir\n",
    "seasons = []\n",
    "for file in listdir('/home/saint/Рабочий стол/Football Analytics/ignatov/data'):\n",
    "    seasons.append(pd.read_csv('data/'+file))\n",
    "a = pd.concat(seasons)"
   ]
  },
  {
   "cell_type": "markdown",
   "metadata": {},
   "source": [
    "Then let's add some more features - the distance to the goal and the angle under which the goal was visible:"
   ]
  },
  {
   "cell_type": "code",
   "execution_count": 5,
   "metadata": {
    "collapsed": true
   },
   "outputs": [],
   "source": [
    "a = a[a['is_penalty'] == 0]\n",
    "a.loc[a['shot_type'] == 0,'shot_type'] = 1\n",
    "x = a[['x', 'y', 'shot_type', 'is_big_chance', 'is_from_corner', 'is_open_play', 'is_counter', 'is_set_piece', 'is_freekick']]\n",
    "x.is_copy = False\n",
    "x['distance'] = np.sqrt((100-a['x'])**2+((100-a['y'])/100*63)**2)\n",
    "x['y'] = abs(x['y']-50).values\n",
    "y = a['is_goal']"
   ]
  },
  {
   "cell_type": "code",
   "execution_count": 6,
   "metadata": {
    "collapsed": true
   },
   "outputs": [],
   "source": [
    "x = pd.get_dummies(data=x, columns=['shot_type'])\n",
    "x = x.values\n",
    "y = y.values"
   ]
  },
  {
   "cell_type": "code",
   "execution_count": 7,
   "metadata": {},
   "outputs": [
    {
     "name": "stderr",
     "output_type": "stream",
     "text": [
      "/usr/local/lib/python3.5/dist-packages/sklearn/cross_validation.py:44: DeprecationWarning: This module was deprecated in version 0.18 in favor of the model_selection module into which all the refactored classes and functions are moved. Also note that the interface of the new CV iterators are different from that of this module. This module will be removed in 0.20.\n",
      "  \"This module will be removed in 0.20.\", DeprecationWarning)\n"
     ]
    }
   ],
   "source": [
    "from sklearn.cross_validation import train_test_split\n",
    "X_train, X_test, y_train, y_test = train_test_split(x, y, test_size=0.3, random_state=20)"
   ]
  },
  {
   "cell_type": "code",
   "execution_count": 8,
   "metadata": {},
   "outputs": [
    {
     "data": {
      "text/plain": [
       "LogisticRegression(C=1.39, class_weight=None, dual=False, fit_intercept=True,\n",
       "          intercept_scaling=1, max_iter=100, multi_class='ovr', n_jobs=1,\n",
       "          penalty='l2', random_state=None, solver='liblinear', tol=0.0001,\n",
       "          verbose=0, warm_start=False)"
      ]
     },
     "execution_count": 8,
     "metadata": {},
     "output_type": "execute_result"
    }
   ],
   "source": [
    "from sklearn.linear_model import LogisticRegression\n",
    "lr = LogisticRegression(C = 1.39)\n",
    "lr.fit(X_train, y_train)"
   ]
  },
  {
   "cell_type": "markdown",
   "metadata": {},
   "source": [
    "Let's save it "
   ]
  },
  {
   "cell_type": "code",
   "execution_count": 9,
   "metadata": {},
   "outputs": [
    {
     "data": {
      "text/plain": [
       "['LogisticRegression.pkl']"
      ]
     },
     "execution_count": 9,
     "metadata": {},
     "output_type": "execute_result"
    }
   ],
   "source": [
    "from sklearn.externals import joblib\n",
    "joblib.dump(lr, 'LogisticRegression.pkl') "
   ]
  },
  {
   "cell_type": "markdown",
   "metadata": {},
   "source": [
    "# Visualizing shots"
   ]
  },
  {
   "cell_type": "markdown",
   "metadata": {},
   "source": [
    "Let's create a map of the football field, which will show the shots. The size of the circle characterizing the shot will be proportional to xG"
   ]
  },
  {
   "cell_type": "code",
   "execution_count": 8,
   "metadata": {
    "collapsed": true
   },
   "outputs": [],
   "source": [
    "from matplotlib import patches\n",
    "def goalMouth_map(coord_list, is_goal_list):\n",
    "\n",
    "    fig,ax = plt.subplots(1)\n",
    "    fig.set_size_inches(15, 3.9, forward=True)\n",
    "\n",
    "    pylab.ylim([0,55])\n",
    "    pylab.xlim([-10,10])\n",
    "\n",
    "    rect = patches.Rectangle((-4.9,0),9.8,38.5,linewidth=7,edgecolor='k',facecolor='none')\n",
    "    ax.add_patch(rect)\n",
    "\n",
    "    for c, shot in enumerate(coord_list):\n",
    "        color = '.g' if is_goal_list[c] == 1 else '.r'\n",
    "        plt.plot(50-shot[0], shot[1], color )\n",
    "    plt.show()"
   ]
  },
  {
   "cell_type": "code",
   "execution_count": 9,
   "metadata": {
    "collapsed": true
   },
   "outputs": [],
   "source": [
    "def shots_map(coord_list, is_goal_list, is_home_list, xG_list = False, score='', home_team_name='', away_team_name='',\n",
    "             xG_score=''):\n",
    "    PITCH_LENGTH = 152\n",
    "    \n",
    "    fig,ax = plt.subplots(1)\n",
    "    ax.set_facecolor('#65AA1F')\n",
    "    fig.set_size_inches(13, 15, forward=True)\n",
    "    plt.gca().set_aspect('equal', adjustable='box')\n",
    "    pylab.ylim([0,110])\n",
    "    pylab.xlim([0,PITCH_LENGTH])\n",
    "\n",
    "    plt.plot([50*PITCH_LENGTH/100, 50*PITCH_LENGTH/100], [0, 100], 'k-', lw=2)\n",
    "    plt.plot([0, 16.2*PITCH_LENGTH/100], [20, 20], 'k-', lw=2)\n",
    "    plt.plot([0, 16.2*PITCH_LENGTH/100], [80, 80], 'k-', lw=2)\n",
    "    plt.plot([16.2*PITCH_LENGTH/100, 16.2*PITCH_LENGTH/100], [20, 80], 'k-', lw=2)\n",
    "    plt.plot([100*PITCH_LENGTH/100, 83.8*PITCH_LENGTH/100], [20, 20], 'k-', lw=2)\n",
    "    plt.plot([100*PITCH_LENGTH/100, 83.8*PITCH_LENGTH/100], [80, 80], 'k-', lw=2)\n",
    "    plt.plot([83.8*PITCH_LENGTH/100, 83.8*PITCH_LENGTH/100], [20, 80], 'k-', lw=2)\n",
    "    plt.plot([0, 5.5*PITCH_LENGTH/100], [36.33, 36.33], 'k-', lw=2)\n",
    "    plt.plot([0, 5.5*PITCH_LENGTH/100], [63.67, 63.67], 'k-', lw=2)\n",
    "    plt.plot([5.5*PITCH_LENGTH/100, 5.5*PITCH_LENGTH/100], [36.33, 63.67], 'k-', lw=2)\n",
    "    plt.plot([100*PITCH_LENGTH/100, 94.5*PITCH_LENGTH/100], [36.33, 36.33], 'k-', lw=2)\n",
    "    plt.plot([100*PITCH_LENGTH/100, 94.5*PITCH_LENGTH/100], [63.67, 63.67], 'k-', lw=2)\n",
    "    plt.plot([94.5*PITCH_LENGTH/100, 94.5*PITCH_LENGTH/100], [36.33, 63.67], 'k-', lw=2)\n",
    "    plt.plot([0, 0], [44.54, 55.46], 'k-', lw=5)\n",
    "    plt.plot([100*PITCH_LENGTH/100, 100*PITCH_LENGTH/100], [44.54, 55.46], 'k-', lw=5)\n",
    "    plt.plot(11.5*PITCH_LENGTH/100,50, '.k')\n",
    "    plt.plot(88.5*PITCH_LENGTH/100,50, '.k')\n",
    "    plt.plot([0, 100*PITCH_LENGTH/100], [100, 100], 'k-', lw=2)\n",
    "    circle=plt.Circle((50*PITCH_LENGTH/100,50),14.5, fill=False)\n",
    "    ax.add_artist(circle)\n",
    "    \n",
    "    rect = patches.Rectangle((0,100),PITCH_LENGTH,10,linewidth=1,color='w')\n",
    "    ax.add_patch(rect)\n",
    "    \n",
    "    plt.text(15,104,home_team_name, size=20, horizontalalignment='left')\n",
    "    plt.text(PITCH_LENGTH-15,104,away_team_name, size=20, horizontalalignment='right')\n",
    "    plt.text(PITCH_LENGTH/2,106,score, size=15, horizontalalignment='center')\n",
    "    plt.text(PITCH_LENGTH/2,102,xG_score, size=15, horizontalalignment='center')\n",
    "    \n",
    "    for c, shot in enumerate(coord_list):\n",
    "        color = '.g' if is_goal_list[c] == 1 else '.r'\n",
    "        if type(xG_list) == bool:\n",
    "            markersize = 30\n",
    "        else:\n",
    "            markersize = 50*np.sqrt(xG_list[c])\n",
    "        if is_home_list[c] == 0:\n",
    "            x = shot[0]*PITCH_LENGTH/100\n",
    "            y = shot[1]\n",
    "        else:\n",
    "            x = (100-shot[0])*PITCH_LENGTH/100\n",
    "            y = 100-shot[1]\n",
    "        plt.plot(x, y, color, markersize=markersize, markeredgecolor='k')\n",
    "    plt.savefig('testplot.png', bbox_inches='tight', pad_inches=0)\n",
    "    plt.show()"
   ]
  },
  {
   "cell_type": "code",
   "execution_count": 10,
   "metadata": {
    "collapsed": true
   },
   "outputs": [],
   "source": [
    "from os import listdir\n",
    "seasons = []\n",
    "for file in listdir('/home/saint/Рабочий стол/Football Analytics/ignatov/data'):\n",
    "    seasons.append(pd.read_csv('data/'+file))\n",
    "a = pd.concat(seasons)"
   ]
  },
  {
   "cell_type": "markdown",
   "metadata": {},
   "source": [
    "Let's plot some random shots:"
   ]
  },
  {
   "cell_type": "code",
   "execution_count": 19,
   "metadata": {},
   "outputs": [
    {
     "data": {
      "image/png": "[encoded data removed]",
      "text/plain": [
       "<matplotlib.figure.Figure at 0x7fdb65fbc198>"
      ]
     },
     "metadata": {},
     "output_type": "display_data"
    }
   ],
   "source": [
    "shots_map(a[['x', 'y']].values[:100], a[['is_goal']].values[:100], np.zeros(100))"
   ]
  },
  {
   "cell_type": "code",
   "execution_count": 26,
   "metadata": {},
   "outputs": [
    {
     "data": {
      "image/png": "[encoded data removed]",
      "text/plain": [
       "<matplotlib.figure.Figure at 0x7fdb65e03630>"
      ]
     },
     "metadata": {},
     "output_type": "display_data"
    }
   ],
   "source": [
    "goalMouth_map(a[a['is_goal'] == 1][['goalMouthY', 'goalMouthZ']].values[:1000], \n",
    "              a[a['is_goal'] == 1][['is_goal']][:1000].values)"
   ]
  },
  {
   "cell_type": "markdown",
   "metadata": {},
   "source": [
    "# Predicting xG"
   ]
  },
  {
   "cell_type": "markdown",
   "metadata": {},
   "source": [
    "Now we can predict xG. Let's write some helpful functions for it:"
   ]
  },
  {
   "cell_type": "code",
   "execution_count": 29,
   "metadata": {
    "collapsed": true
   },
   "outputs": [],
   "source": [
    "from sklearn.externals import joblib\n",
    "lr = joblib.load('LogisticRegression.pkl') "
   ]
  },
  {
   "cell_type": "code",
   "execution_count": 30,
   "metadata": {
    "collapsed": true
   },
   "outputs": [],
   "source": [
    "def get_shot_xG(shot):\n",
    "    return lr.predict_proba(shot.reshape(1,-1))[:,1][0]"
   ]
  },
  {
   "cell_type": "code",
   "execution_count": 31,
   "metadata": {
    "collapsed": true
   },
   "outputs": [],
   "source": [
    "def get_list_xG(shots):\n",
    "    xG_list = []\n",
    "    for shot in shots:\n",
    "        xG_list.append(get_shot_xG(shot))\n",
    "    return xG_list"
   ]
  },
  {
   "cell_type": "code",
   "execution_count": 32,
   "metadata": {
    "collapsed": true
   },
   "outputs": [],
   "source": [
    "def get_match_xG(match_url):\n",
    "    match_info = get_match_info(match_url)\n",
    "    \n",
    "    score = match_info['score'] \n",
    "    home_team_id = match_info['home']['teamId']\n",
    "    away_team_id = match_info['away']['teamId']\n",
    "    home_team_name = match_info['home_team_name']\n",
    "    away_team_name = match_info['away_team_name']\n",
    "\n",
    "    df = represent(parse_shots_from_match(match_info))\n",
    "    shot_data = df[['team_id', 'x', 'y', 'shot_type', 'is_big_chance', 'is_from_corner', 'is_open_play', 'is_counter',\n",
    "                    'is_set_piece', 'is_freekick']]\n",
    "    shot_data.is_copy = False\n",
    "    shot_data['distance'] = np.sqrt((100-shot_data['x'])**2+((100-shot_data['y'])/100*63)**2)\n",
    "    shot_data['y'] = abs(shot_data['y']-50)\n",
    "    shot_data = pd.get_dummies(data=shot_data, columns=['shot_type']).drop('team_id', axis=1).values\n",
    "    df['xG'] = get_list_xG(shot_data)\n",
    "\n",
    "    home_pens = df[(df['is_penalty'] == 1) & (df['team_id'] == home_team_id)]['is_penalty'].sum()\n",
    "    away_pens = df[(df['is_penalty'] == 1) & (df['team_id'] == away_team_id)]['is_penalty'].sum()\n",
    "    df_no_pen = df[df['is_penalty'] == 0]\n",
    "    home_xG = df_no_pen[df_no_pen['team_id'] == home_team_id]['xG'].sum()\n",
    "    away_xG = df_no_pen[df_no_pen['team_id'] == away_team_id]['xG'].sum()\n",
    "    xG_score = '(%0.2f ' % (home_xG)\n",
    "    if home_pens != 0:\n",
    "        xG_score += '(+%d pen) ' % (home_pens)\n",
    "    xG_score += ': %0.2f' % (away_xG)\n",
    "    if away_pens != 0:\n",
    "        xG_score += ' (+%d pen)' % (away_pens)\n",
    "    xG_score += ')'\n",
    "\n",
    "    shots_info = df_no_pen[['x', 'y', 'is_goal', 'xG', 'team_id']]\n",
    "    shots_info['home_team'] = (shots_info['team_id'] == home_team_id).astype(int)\n",
    "    shots_info = shots_info.values\n",
    "    shots_map(shots_info[:,:2], shots_info[:,2], shots_info[:,5], shots_info[:,3], score=score,\n",
    "              home_team_name=home_team_name, away_team_name=away_team_name, xG_score=xG_score)\n",
    "    return df"
   ]
  },
  {
   "cell_type": "markdown",
   "metadata": {},
   "source": [
    "Now we've got an instrument, that can plot the next pictures given the id of the match:"
   ]
  },
  {
   "cell_type": "code",
   "execution_count": 67,
   "metadata": {
    "scrolled": false
   },
   "outputs": [
    {
     "name": "stderr",
     "output_type": "stream",
     "text": [
      "/usr/local/lib/python3.5/dist-packages/ipykernel_launcher.py:33: SettingWithCopyWarning: \n",
      "A value is trying to be set on a copy of a slice from a DataFrame.\n",
      "Try using .loc[row_indexer,col_indexer] = value instead\n",
      "\n",
      "See the caveats in the documentation: http://pandas.pydata.org/pandas-docs/stable/indexing.html#indexing-view-versus-copy\n"
     ]
    },
    {
     "data": {
      "image/png": "[encoded data removed]",
      "text/plain": [
       "<matplotlib.figure.Figure at 0x7fbec71950b8>"
      ]
     },
     "metadata": {},
     "output_type": "display_data"
    }
   ],
   "source": [
    "import numpy as np\n",
    "a = get_match_xG('https://www.whoscored.com/Matches/1083840/Live/Russia-Premier-League-2016-2017-Lokomotiv-Moscow-FC-Orenburg')"
   ]
  },
  {
   "cell_type": "markdown",
   "metadata": {},
   "source": [
    "# Practical implementation"
   ]
  },
  {
   "cell_type": "markdown",
   "metadata": {},
   "source": [
    "Now let's analyze the results of the RFPL 2016/17:"
   ]
  },
  {
   "cell_type": "code",
   "execution_count": 139,
   "metadata": {
    "collapsed": true
   },
   "outputs": [],
   "source": [
    "rfpl = pd.read_csv('data/shots_rfpl_2016-2017.csv')"
   ]
  },
  {
   "cell_type": "code",
   "execution_count": 140,
   "metadata": {
    "collapsed": true
   },
   "outputs": [],
   "source": [
    "#rfpl = pd.DataFrame(shots, columns=['match_id', 'team_id', 'player_id', 'player_name', 'minute', 'x', 'y', 'goalMouthY', 'goalMouthZ', 'shot_type', 'is_big_chance', 'is_from_corner', 'is_open_play', 'is_counter', 'is_set_piece', 'is_freekick', 'is_penalty', 'is_on_target', 'is_blocked', 'is_goal'])\n",
    "rfpl = rfpl[rfpl['is_penalty'] == 0]"
   ]
  },
  {
   "cell_type": "code",
   "execution_count": 141,
   "metadata": {
    "collapsed": true
   },
   "outputs": [],
   "source": [
    "import numpy as np\n",
    "shot_data = rfpl[['x', 'y', 'shot_type', 'is_big_chance', 'is_from_corner', 'is_open_play', 'is_counter',\n",
    "                    'is_set_piece', 'is_freekick']]\n",
    "shot_data.is_copy = False\n",
    "shot_data['distance'] = np.sqrt((100-shot_data['x'])**2+((100-shot_data['y'])/100*63)**2)\n",
    "shot_data['y'] = abs(shot_data['y']-50)\n",
    "shot_data.loc[shot_data['shot_type'] == 0,'shot_type'] = 1\n",
    "shot_data = pd.get_dummies(data=shot_data, columns=['shot_type']).values\n",
    "rfpl['xG'] = get_list_xG(shot_data)"
   ]
  },
  {
   "cell_type": "code",
   "execution_count": 142,
   "metadata": {
    "collapsed": true
   },
   "outputs": [],
   "source": [
    "teams = {560:'Zenit', 562:'Rostov', 668:'Lokomotiv', 840:'Spartak', 847:'CSKA', 997:'Krylya Sovetov', 1002:'Anzhi', \n",
    "        1537:'Amkar', 2057:'Rubin', 2288:'Tom', 2407:'Akhmat', 4174:'Ural', 5460:'Orenburg',7164:'Krasnodar', \n",
    "         8753:'Arsenal', 9004:'Ufa'}\n",
    "rfpl = rfpl.replace({'team_id':teams})"
   ]
  },
  {
   "cell_type": "markdown",
   "metadata": {},
   "source": [
    "Let's find which team created most moments during the 2016/2017 season:"
   ]
  },
  {
   "cell_type": "code",
   "execution_count": 143,
   "metadata": {},
   "outputs": [
    {
     "data": {
      "text/html": [
       "<div>\n",
       "<table border=\"1\" class=\"dataframe\">\n",
       "  <thead>\n",
       "    <tr style=\"text-align: right;\">\n",
       "      <th></th>\n",
       "      <th>xG</th>\n",
       "    </tr>\n",
       "    <tr>\n",
       "      <th>team_id</th>\n",
       "      <th></th>\n",
       "    </tr>\n",
       "  </thead>\n",
       "  <tbody>\n",
       "    <tr>\n",
       "      <th>Zenit</th>\n",
       "      <td>39.463513</td>\n",
       "    </tr>\n",
       "    <tr>\n",
       "      <th>Spartak</th>\n",
       "      <td>34.953309</td>\n",
       "    </tr>\n",
       "    <tr>\n",
       "      <th>CSKA</th>\n",
       "      <td>34.209945</td>\n",
       "    </tr>\n",
       "    <tr>\n",
       "      <th>Krylya Sovetov</th>\n",
       "      <td>32.627794</td>\n",
       "    </tr>\n",
       "    <tr>\n",
       "      <th>Krasnodar</th>\n",
       "      <td>28.733859</td>\n",
       "    </tr>\n",
       "    <tr>\n",
       "      <th>Rubin</th>\n",
       "      <td>28.443868</td>\n",
       "    </tr>\n",
       "    <tr>\n",
       "      <th>Akhmat</th>\n",
       "      <td>28.307419</td>\n",
       "    </tr>\n",
       "    <tr>\n",
       "      <th>Lokomotiv</th>\n",
       "      <td>27.484959</td>\n",
       "    </tr>\n",
       "    <tr>\n",
       "      <th>Rostov</th>\n",
       "      <td>25.460197</td>\n",
       "    </tr>\n",
       "    <tr>\n",
       "      <th>Orenburg</th>\n",
       "      <td>23.539696</td>\n",
       "    </tr>\n",
       "    <tr>\n",
       "      <th>Anzhi</th>\n",
       "      <td>21.004646</td>\n",
       "    </tr>\n",
       "    <tr>\n",
       "      <th>Ufa</th>\n",
       "      <td>20.208614</td>\n",
       "    </tr>\n",
       "    <tr>\n",
       "      <th>Ural</th>\n",
       "      <td>19.078261</td>\n",
       "    </tr>\n",
       "    <tr>\n",
       "      <th>Arsenal</th>\n",
       "      <td>19.062218</td>\n",
       "    </tr>\n",
       "    <tr>\n",
       "      <th>Amkar</th>\n",
       "      <td>18.286895</td>\n",
       "    </tr>\n",
       "    <tr>\n",
       "      <th>Tom</th>\n",
       "      <td>15.711658</td>\n",
       "    </tr>\n",
       "  </tbody>\n",
       "</table>\n",
       "</div>"
      ],
      "text/plain": [
       "                       xG\n",
       "team_id                  \n",
       "Zenit           39.463513\n",
       "Spartak         34.953309\n",
       "CSKA            34.209945\n",
       "Krylya Sovetov  32.627794\n",
       "Krasnodar       28.733859\n",
       "Rubin           28.443868\n",
       "Akhmat          28.307419\n",
       "Lokomotiv       27.484959\n",
       "Rostov          25.460197\n",
       "Orenburg        23.539696\n",
       "Anzhi           21.004646\n",
       "Ufa             20.208614\n",
       "Ural            19.078261\n",
       "Arsenal         19.062218\n",
       "Amkar           18.286895\n",
       "Tom             15.711658"
      ]
     },
     "execution_count": 143,
     "metadata": {},
     "output_type": "execute_result"
    }
   ],
   "source": [
    "rfpl.groupby('team_id')[['xG']].sum().sort_values('xG', ascending=False)"
   ]
  },
  {
   "cell_type": "markdown",
   "metadata": {},
   "source": [
    "Now let's find which teams and players have the best realisation (xG/goal value)"
   ]
  },
  {
   "cell_type": "code",
   "execution_count": 144,
   "metadata": {
    "collapsed": true,
    "scrolled": false
   },
   "outputs": [],
   "source": [
    "scorers = rfpl.groupby('player_name')[['is_goal']].sum().reset_index()\n",
    "xG = rfpl.groupby('player_name')[['xG']].sum().reset_index()"
   ]
  },
  {
   "cell_type": "code",
   "execution_count": 147,
   "metadata": {
    "collapsed": true
   },
   "outputs": [],
   "source": [
    "xG_scorers = scorers.merge(xG, on='player_name', how='left')\n",
    "xG_scorers = xG_scorers[xG_scorers['is_goal'] >= 6]\n",
    "xG_scorers['xG/goal'] = xG_scorers['xG'].values / xG_scorers['is_goal'].values"
   ]
  },
  {
   "cell_type": "code",
   "execution_count": 148,
   "metadata": {},
   "outputs": [
    {
     "data": {
      "text/html": [
       "<div>\n",
       "<table border=\"1\" class=\"dataframe\">\n",
       "  <thead>\n",
       "    <tr style=\"text-align: right;\">\n",
       "      <th></th>\n",
       "      <th>player_name</th>\n",
       "      <th>is_goal</th>\n",
       "      <th>xG</th>\n",
       "      <th>xG/goal</th>\n",
       "    </tr>\n",
       "  </thead>\n",
       "  <tbody>\n",
       "    <tr>\n",
       "      <th>208</th>\n",
       "      <td>Jonathas</td>\n",
       "      <td>8</td>\n",
       "      <td>7.302729</td>\n",
       "      <td>0.912841</td>\n",
       "    </tr>\n",
       "    <tr>\n",
       "      <th>69</th>\n",
       "      <td>Artem Dzyuba</td>\n",
       "      <td>12</td>\n",
       "      <td>9.869438</td>\n",
       "      <td>0.822453</td>\n",
       "    </tr>\n",
       "    <tr>\n",
       "      <th>320</th>\n",
       "      <td>Sergei Kornilenko</td>\n",
       "      <td>8</td>\n",
       "      <td>6.508737</td>\n",
       "      <td>0.813592</td>\n",
       "    </tr>\n",
       "    <tr>\n",
       "      <th>289</th>\n",
       "      <td>Quincy Promes</td>\n",
       "      <td>10</td>\n",
       "      <td>7.728812</td>\n",
       "      <td>0.772881</td>\n",
       "    </tr>\n",
       "    <tr>\n",
       "      <th>84</th>\n",
       "      <td>Bekim Balaj</td>\n",
       "      <td>9</td>\n",
       "      <td>6.100799</td>\n",
       "      <td>0.677867</td>\n",
       "    </tr>\n",
       "    <tr>\n",
       "      <th>314</th>\n",
       "      <td>Sardar Azmoun</td>\n",
       "      <td>7</td>\n",
       "      <td>4.621045</td>\n",
       "      <td>0.660149</td>\n",
       "    </tr>\n",
       "    <tr>\n",
       "      <th>211</th>\n",
       "      <td>Kehinde Fatai</td>\n",
       "      <td>6</td>\n",
       "      <td>3.952992</td>\n",
       "      <td>0.658832</td>\n",
       "    </tr>\n",
       "    <tr>\n",
       "      <th>1</th>\n",
       "      <td>Ablae Mbengue</td>\n",
       "      <td>7</td>\n",
       "      <td>4.538930</td>\n",
       "      <td>0.648419</td>\n",
       "    </tr>\n",
       "    <tr>\n",
       "      <th>66</th>\n",
       "      <td>Ari</td>\n",
       "      <td>10</td>\n",
       "      <td>6.325549</td>\n",
       "      <td>0.632555</td>\n",
       "    </tr>\n",
       "    <tr>\n",
       "      <th>235</th>\n",
       "      <td>Maksim Kanunnikov</td>\n",
       "      <td>7</td>\n",
       "      <td>4.217184</td>\n",
       "      <td>0.602455</td>\n",
       "    </tr>\n",
       "    <tr>\n",
       "      <th>358</th>\n",
       "      <td>Vitinho</td>\n",
       "      <td>6</td>\n",
       "      <td>3.526787</td>\n",
       "      <td>0.587798</td>\n",
       "    </tr>\n",
       "    <tr>\n",
       "      <th>151</th>\n",
       "      <td>Fedor Chalov</td>\n",
       "      <td>6</td>\n",
       "      <td>3.254567</td>\n",
       "      <td>0.542428</td>\n",
       "    </tr>\n",
       "    <tr>\n",
       "      <th>129</th>\n",
       "      <td>Dmitriy Poloz</td>\n",
       "      <td>7</td>\n",
       "      <td>3.658086</td>\n",
       "      <td>0.522584</td>\n",
       "    </tr>\n",
       "    <tr>\n",
       "      <th>114</th>\n",
       "      <td>Denis Glushakov</td>\n",
       "      <td>8</td>\n",
       "      <td>4.167207</td>\n",
       "      <td>0.520901</td>\n",
       "    </tr>\n",
       "    <tr>\n",
       "      <th>152</th>\n",
       "      <td>Fedor Smolov</td>\n",
       "      <td>14</td>\n",
       "      <td>7.049008</td>\n",
       "      <td>0.503501</td>\n",
       "    </tr>\n",
       "    <tr>\n",
       "      <th>10</th>\n",
       "      <td>Aleksandr Bukharov</td>\n",
       "      <td>6</td>\n",
       "      <td>2.939861</td>\n",
       "      <td>0.489977</td>\n",
       "    </tr>\n",
       "  </tbody>\n",
       "</table>\n",
       "</div>"
      ],
      "text/plain": [
       "            player_name  is_goal        xG   xG/goal\n",
       "208            Jonathas        8  7.302729  0.912841\n",
       "69         Artem Dzyuba       12  9.869438  0.822453\n",
       "320   Sergei Kornilenko        8  6.508737  0.813592\n",
       "289       Quincy Promes       10  7.728812  0.772881\n",
       "84          Bekim Balaj        9  6.100799  0.677867\n",
       "314       Sardar Azmoun        7  4.621045  0.660149\n",
       "211       Kehinde Fatai        6  3.952992  0.658832\n",
       "1         Ablae Mbengue        7  4.538930  0.648419\n",
       "66                  Ari       10  6.325549  0.632555\n",
       "235   Maksim Kanunnikov        7  4.217184  0.602455\n",
       "358             Vitinho        6  3.526787  0.587798\n",
       "151        Fedor Chalov        6  3.254567  0.542428\n",
       "129       Dmitriy Poloz        7  3.658086  0.522584\n",
       "114     Denis Glushakov        8  4.167207  0.520901\n",
       "152        Fedor Smolov       14  7.049008  0.503501\n",
       "10   Aleksandr Bukharov        6  2.939861  0.489977"
      ]
     },
     "execution_count": 148,
     "metadata": {},
     "output_type": "execute_result"
    }
   ],
   "source": [
    "xG_scorers.sort_values('xG/goal', ascending=False)"
   ]
  },
  {
   "cell_type": "code",
   "execution_count": 73,
   "metadata": {},
   "outputs": [
    {
     "data": {
      "text/html": [
       "<div>\n",
       "<table border=\"1\" class=\"dataframe\">\n",
       "  <thead>\n",
       "    <tr style=\"text-align: right;\">\n",
       "      <th></th>\n",
       "      <th>team_id</th>\n",
       "      <th>is_goal</th>\n",
       "      <th>xG</th>\n",
       "      <th>xG/goal</th>\n",
       "      <th>goal_per_match</th>\n",
       "      <th>xG_per_match</th>\n",
       "    </tr>\n",
       "  </thead>\n",
       "  <tbody>\n",
       "    <tr>\n",
       "      <th>0</th>\n",
       "      <td>Akhmat</td>\n",
       "      <td>35</td>\n",
       "      <td>28.307419</td>\n",
       "      <td>0.808783</td>\n",
       "      <td>1.166667</td>\n",
       "      <td>0.943581</td>\n",
       "    </tr>\n",
       "    <tr>\n",
       "      <th>1</th>\n",
       "      <td>Amkar</td>\n",
       "      <td>20</td>\n",
       "      <td>18.286895</td>\n",
       "      <td>0.914345</td>\n",
       "      <td>0.666667</td>\n",
       "      <td>0.609563</td>\n",
       "    </tr>\n",
       "    <tr>\n",
       "      <th>2</th>\n",
       "      <td>Anzhi</td>\n",
       "      <td>18</td>\n",
       "      <td>21.004646</td>\n",
       "      <td>1.166925</td>\n",
       "      <td>0.600000</td>\n",
       "      <td>0.700155</td>\n",
       "    </tr>\n",
       "    <tr>\n",
       "      <th>3</th>\n",
       "      <td>Arsenal</td>\n",
       "      <td>15</td>\n",
       "      <td>19.062218</td>\n",
       "      <td>1.270815</td>\n",
       "      <td>0.500000</td>\n",
       "      <td>0.635407</td>\n",
       "    </tr>\n",
       "    <tr>\n",
       "      <th>4</th>\n",
       "      <td>CSKA</td>\n",
       "      <td>43</td>\n",
       "      <td>34.209945</td>\n",
       "      <td>0.795580</td>\n",
       "      <td>1.433333</td>\n",
       "      <td>1.140332</td>\n",
       "    </tr>\n",
       "    <tr>\n",
       "      <th>5</th>\n",
       "      <td>Krasnodar</td>\n",
       "      <td>34</td>\n",
       "      <td>28.733859</td>\n",
       "      <td>0.845114</td>\n",
       "      <td>1.133333</td>\n",
       "      <td>0.957795</td>\n",
       "    </tr>\n",
       "    <tr>\n",
       "      <th>6</th>\n",
       "      <td>Krylya Sovetov</td>\n",
       "      <td>25</td>\n",
       "      <td>32.627794</td>\n",
       "      <td>1.305112</td>\n",
       "      <td>0.833333</td>\n",
       "      <td>1.087593</td>\n",
       "    </tr>\n",
       "    <tr>\n",
       "      <th>7</th>\n",
       "      <td>Lokomotiv</td>\n",
       "      <td>31</td>\n",
       "      <td>27.484959</td>\n",
       "      <td>0.886612</td>\n",
       "      <td>1.033333</td>\n",
       "      <td>0.916165</td>\n",
       "    </tr>\n",
       "    <tr>\n",
       "      <th>8</th>\n",
       "      <td>Orenburg</td>\n",
       "      <td>21</td>\n",
       "      <td>23.539696</td>\n",
       "      <td>1.120938</td>\n",
       "      <td>0.700000</td>\n",
       "      <td>0.784657</td>\n",
       "    </tr>\n",
       "    <tr>\n",
       "      <th>9</th>\n",
       "      <td>Rostov</td>\n",
       "      <td>35</td>\n",
       "      <td>25.460197</td>\n",
       "      <td>0.727434</td>\n",
       "      <td>1.166667</td>\n",
       "      <td>0.848673</td>\n",
       "    </tr>\n",
       "    <tr>\n",
       "      <th>10</th>\n",
       "      <td>Rubin</td>\n",
       "      <td>26</td>\n",
       "      <td>28.443868</td>\n",
       "      <td>1.093995</td>\n",
       "      <td>0.866667</td>\n",
       "      <td>0.948129</td>\n",
       "    </tr>\n",
       "    <tr>\n",
       "      <th>11</th>\n",
       "      <td>Spartak</td>\n",
       "      <td>44</td>\n",
       "      <td>34.953309</td>\n",
       "      <td>0.794393</td>\n",
       "      <td>1.466667</td>\n",
       "      <td>1.165110</td>\n",
       "    </tr>\n",
       "    <tr>\n",
       "      <th>12</th>\n",
       "      <td>Tom</td>\n",
       "      <td>16</td>\n",
       "      <td>15.711658</td>\n",
       "      <td>0.981979</td>\n",
       "      <td>0.533333</td>\n",
       "      <td>0.523722</td>\n",
       "    </tr>\n",
       "    <tr>\n",
       "      <th>13</th>\n",
       "      <td>Ufa</td>\n",
       "      <td>19</td>\n",
       "      <td>20.208614</td>\n",
       "      <td>1.063611</td>\n",
       "      <td>0.633333</td>\n",
       "      <td>0.673620</td>\n",
       "    </tr>\n",
       "    <tr>\n",
       "      <th>14</th>\n",
       "      <td>Ural</td>\n",
       "      <td>20</td>\n",
       "      <td>19.078261</td>\n",
       "      <td>0.953913</td>\n",
       "      <td>0.666667</td>\n",
       "      <td>0.635942</td>\n",
       "    </tr>\n",
       "    <tr>\n",
       "      <th>15</th>\n",
       "      <td>Zenit</td>\n",
       "      <td>40</td>\n",
       "      <td>39.463513</td>\n",
       "      <td>0.986588</td>\n",
       "      <td>1.333333</td>\n",
       "      <td>1.315450</td>\n",
       "    </tr>\n",
       "  </tbody>\n",
       "</table>\n",
       "</div>"
      ],
      "text/plain": [
       "           team_id  is_goal         xG   xG/goal  goal_per_match  xG_per_match\n",
       "0           Akhmat       35  28.307419  0.808783        1.166667      0.943581\n",
       "1            Amkar       20  18.286895  0.914345        0.666667      0.609563\n",
       "2            Anzhi       18  21.004646  1.166925        0.600000      0.700155\n",
       "3          Arsenal       15  19.062218  1.270815        0.500000      0.635407\n",
       "4             CSKA       43  34.209945  0.795580        1.433333      1.140332\n",
       "5        Krasnodar       34  28.733859  0.845114        1.133333      0.957795\n",
       "6   Krylya Sovetov       25  32.627794  1.305112        0.833333      1.087593\n",
       "7        Lokomotiv       31  27.484959  0.886612        1.033333      0.916165\n",
       "8         Orenburg       21  23.539696  1.120938        0.700000      0.784657\n",
       "9           Rostov       35  25.460197  0.727434        1.166667      0.848673\n",
       "10           Rubin       26  28.443868  1.093995        0.866667      0.948129\n",
       "11         Spartak       44  34.953309  0.794393        1.466667      1.165110\n",
       "12             Tom       16  15.711658  0.981979        0.533333      0.523722\n",
       "13             Ufa       19  20.208614  1.063611        0.633333      0.673620\n",
       "14            Ural       20  19.078261  0.953913        0.666667      0.635942\n",
       "15           Zenit       40  39.463513  0.986588        1.333333      1.315450"
      ]
     },
     "execution_count": 73,
     "metadata": {},
     "output_type": "execute_result"
    }
   ],
   "source": [
    "xG = rfpl.groupby('team_id')[['xG']].sum().reset_index()\n",
    "goals = rfpl.groupby('team_id')[['is_goal']].sum().reset_index()\n",
    "xG_goals = goals.merge(xG, on='team_id', how='left')\n",
    "xG_goals['xG/goal'] = xG_goals['xG'].values / xG_goals['is_goal'].values\n",
    "xG_goals.sort_values('xG/goal')\n",
    "xG_goals['goal_per_match'] = xG_goals['is_goal'].values/30\n",
    "xG_goals['xG_per_match'] = xG_goals['xG'].values/30\n",
    "xG_goals"
   ]
  },
  {
   "cell_type": "code",
   "execution_count": 113,
   "metadata": {},
   "outputs": [
    {
     "data": {
      "text/plain": [
       "<matplotlib.text.Text at 0x7fdb65eb9710>"
      ]
     },
     "execution_count": 113,
     "metadata": {},
     "output_type": "execute_result"
    },
    {
     "data": {
      "image/png": "[encoded data removed]",
      "text/plain": [
       "<matplotlib.figure.Figure at 0x7fdb65f65128>"
      ]
     },
     "metadata": {},
     "output_type": "display_data"
    }
   ],
   "source": [
    "import seaborn as sn\n",
    "fig, ax = plt.subplots(figsize=(10, 10))\n",
    "plt.scatter(xG_goals['xG_per_match'], xG_goals['goal_per_match'],s=25, cmap=plt.cm.coolwarm, zorder=10)\n",
    "lims = [\n",
    "    np.min([ax.get_xlim(), ax.get_ylim()]),  # min of both axes\n",
    "    np.max([ax.get_xlim(), ax.get_ylim()]),  # max of both axes\n",
    "]\n",
    "\n",
    "# now plot both limits against eachother\n",
    "ax.plot(lims, lims, 'k-', alpha=0.75, zorder=0)\n",
    "ax.set_aspect('equal')\n",
    "ax.set_xlim(lims)\n",
    "ax.set_ylim(lims)\n",
    "\n",
    "for label, x, y in zip(xG_goals['team_id'].values, xG_goals['xG_per_match'].values, xG_goals['goal_per_match'].values):\n",
    "    plt.annotate(\n",
    "        label,\n",
    "        xy=(x, y), xytext=(-10, 10),\n",
    "        textcoords='offset points', ha='right', va='bottom',\n",
    "        bbox=dict(boxstyle='round,pad=0.5', fc='yellow', alpha=0.3),\n",
    "        arrowprops=dict(arrowstyle = '->', connectionstyle='arc3,rad=0'))\n",
    "\n",
    "\n",
    "plt.title('xG/goals in RFPL 2016-2017 (w/o penalties)', fontsize=18)\n",
    "plt.xlabel('xG created', fontsize=18)\n",
    "plt.ylabel('goals scored', fontsize=18)"
   ]
  },
  {
   "cell_type": "markdown",
   "metadata": {},
   "source": [
    "So, if we trained our model pretty accurate, there should be about 1 xG needed to score a goal. Let's check it:"
   ]
  },
  {
   "cell_type": "code",
   "execution_count": 120,
   "metadata": {},
   "outputs": [
    {
     "data": {
      "text/plain": [
       "1.0004537589622886"
      ]
     },
     "execution_count": 120,
     "metadata": {},
     "output_type": "execute_result"
    }
   ],
   "source": [
    "a['is_goal'].sum() / a['xG'].sum()"
   ]
  },
  {
   "cell_type": "code",
   "execution_count": 127,
   "metadata": {},
   "outputs": [
    {
     "data": {
      "text/html": [
       "<div>\n",
       "<table border=\"1\" class=\"dataframe\">\n",
       "  <thead>\n",
       "    <tr style=\"text-align: right;\">\n",
       "      <th></th>\n",
       "      <th>xG</th>\n",
       "    </tr>\n",
       "    <tr>\n",
       "      <th>player_name</th>\n",
       "      <th></th>\n",
       "    </tr>\n",
       "  </thead>\n",
       "  <tbody>\n",
       "    <tr>\n",
       "      <th>Cristiano Ronaldo</th>\n",
       "      <td>172.684624</td>\n",
       "    </tr>\n",
       "    <tr>\n",
       "      <th>Lionel Messi</th>\n",
       "      <td>171.071551</td>\n",
       "    </tr>\n",
       "  </tbody>\n",
       "</table>\n",
       "</div>"
      ],
      "text/plain": [
       "                           xG\n",
       "player_name                  \n",
       "Cristiano Ronaldo  172.684624\n",
       "Lionel Messi       171.071551"
      ]
     },
     "execution_count": 127,
     "metadata": {},
     "output_type": "execute_result"
    }
   ],
   "source": [
    "a.groupby('player_name')[['xG']].sum().sort_values('xG', ascending=False).head(2)"
   ]
  },
  {
   "cell_type": "markdown",
   "metadata": {},
   "source": [
    "Even in this parameter they're are the best and very close to each other!"
   ]
  },
  {
   "cell_type": "code",
   "execution_count": 130,
   "metadata": {},
   "outputs": [
    {
     "data": {
      "text/html": [
       "<div>\n",
       "<table border=\"1\" class=\"dataframe\">\n",
       "  <thead>\n",
       "    <tr style=\"text-align: right;\">\n",
       "      <th></th>\n",
       "      <th>is_goal</th>\n",
       "    </tr>\n",
       "    <tr>\n",
       "      <th>player_name</th>\n",
       "      <th></th>\n",
       "    </tr>\n",
       "  </thead>\n",
       "  <tbody>\n",
       "    <tr>\n",
       "      <th>Lionel Messi</th>\n",
       "      <td>222</td>\n",
       "    </tr>\n",
       "    <tr>\n",
       "      <th>Cristiano Ronaldo</th>\n",
       "      <td>205</td>\n",
       "    </tr>\n",
       "  </tbody>\n",
       "</table>\n",
       "</div>"
      ],
      "text/plain": [
       "                   is_goal\n",
       "player_name               \n",
       "Lionel Messi           222\n",
       "Cristiano Ronaldo      205"
      ]
     },
     "execution_count": 130,
     "metadata": {},
     "output_type": "execute_result"
    }
   ],
   "source": [
    "a.groupby('player_name')[['is_goal']].sum().sort_values('is_goal', ascending=False).head(2)"
   ]
  },
  {
   "cell_type": "markdown",
   "metadata": {},
   "source": [
    "(But Messi scored more)"
   ]
  },
  {
   "cell_type": "code",
   "execution_count": 149,
   "metadata": {},
   "outputs": [
    {
     "data": {
      "text/html": [
       "<div>\n",
       "<table border=\"1\" class=\"dataframe\">\n",
       "  <thead>\n",
       "    <tr style=\"text-align: right;\">\n",
       "      <th></th>\n",
       "      <th>xG</th>\n",
       "    </tr>\n",
       "    <tr>\n",
       "      <th>shot_type</th>\n",
       "      <th></th>\n",
       "    </tr>\n",
       "  </thead>\n",
       "  <tbody>\n",
       "    <tr>\n",
       "      <th>1</th>\n",
       "      <td>0.093324</td>\n",
       "    </tr>\n",
       "    <tr>\n",
       "      <th>2</th>\n",
       "      <td>0.113850</td>\n",
       "    </tr>\n",
       "  </tbody>\n",
       "</table>\n",
       "</div>"
      ],
      "text/plain": [
       "                 xG\n",
       "shot_type          \n",
       "1          0.093324\n",
       "2          0.113850"
      ]
     },
     "execution_count": 149,
     "metadata": {},
     "output_type": "execute_result"
    }
   ],
   "source": [
    "a[a['shot_type'] != 0].groupby('shot_type')[['xG']].mean()"
   ]
  },
  {
   "cell_type": "markdown",
   "metadata": {},
   "source": [
    "Headers are more dangerous than kicks, as they are performed from closer distance (in average):"
   ]
  },
  {
   "cell_type": "markdown",
   "metadata": {},
   "source": [
    "Let's find players with the best realisation coefficient among those  who scored more than 70 goals in the last 7 seasons:"
   ]
  },
  {
   "cell_type": "code",
   "execution_count": 197,
   "metadata": {},
   "outputs": [
    {
     "data": {
      "text/html": [
       "<div>\n",
       "<table border=\"1\" class=\"dataframe\">\n",
       "  <thead>\n",
       "    <tr style=\"text-align: right;\">\n",
       "      <th></th>\n",
       "      <th>player_name</th>\n",
       "      <th>xG/goal</th>\n",
       "    </tr>\n",
       "  </thead>\n",
       "  <tbody>\n",
       "    <tr>\n",
       "      <th>1198</th>\n",
       "      <td>Gareth Bale</td>\n",
       "      <td>0.722369</td>\n",
       "    </tr>\n",
       "    <tr>\n",
       "      <th>183</th>\n",
       "      <td>Alexis Sánchez</td>\n",
       "      <td>0.745802</td>\n",
       "    </tr>\n",
       "    <tr>\n",
       "      <th>2022</th>\n",
       "      <td>Lionel Messi</td>\n",
       "      <td>0.770593</td>\n",
       "    </tr>\n",
       "    <tr>\n",
       "      <th>2194</th>\n",
       "      <td>Marco Reus</td>\n",
       "      <td>0.775686</td>\n",
       "    </tr>\n",
       "    <tr>\n",
       "      <th>284</th>\n",
       "      <td>Antoine Griezmann</td>\n",
       "      <td>0.792280</td>\n",
       "    </tr>\n",
       "    <tr>\n",
       "      <th>867</th>\n",
       "      <td>Diego Costa</td>\n",
       "      <td>0.796206</td>\n",
       "    </tr>\n",
       "    <tr>\n",
       "      <th>2063</th>\n",
       "      <td>Luis Suárez</td>\n",
       "      <td>0.837291</td>\n",
       "    </tr>\n",
       "    <tr>\n",
       "      <th>664</th>\n",
       "      <td>Cristiano Ronaldo</td>\n",
       "      <td>0.842364</td>\n",
       "    </tr>\n",
       "    <tr>\n",
       "      <th>3495</th>\n",
       "      <td>Wayne Rooney</td>\n",
       "      <td>0.862584</td>\n",
       "    </tr>\n",
       "    <tr>\n",
       "      <th>2964</th>\n",
       "      <td>Romelu Lukaku</td>\n",
       "      <td>0.865202</td>\n",
       "    </tr>\n",
       "    <tr>\n",
       "      <th>2219</th>\n",
       "      <td>Mario Gomez</td>\n",
       "      <td>0.884259</td>\n",
       "    </tr>\n",
       "    <tr>\n",
       "      <th>3133</th>\n",
       "      <td>Sergio Agüero</td>\n",
       "      <td>0.893735</td>\n",
       "    </tr>\n",
       "    <tr>\n",
       "      <th>1866</th>\n",
       "      <td>Karim Benzema</td>\n",
       "      <td>0.908294</td>\n",
       "    </tr>\n",
       "    <tr>\n",
       "      <th>2799</th>\n",
       "      <td>Pierre-Emerick Aubameyang</td>\n",
       "      <td>0.924417</td>\n",
       "    </tr>\n",
       "    <tr>\n",
       "      <th>2935</th>\n",
       "      <td>Robin van Persie</td>\n",
       "      <td>0.928336</td>\n",
       "    </tr>\n",
       "    <tr>\n",
       "      <th>3215</th>\n",
       "      <td>Stefan Kießling</td>\n",
       "      <td>0.933543</td>\n",
       "    </tr>\n",
       "    <tr>\n",
       "      <th>64</th>\n",
       "      <td>Aduriz</td>\n",
       "      <td>0.937632</td>\n",
       "    </tr>\n",
       "    <tr>\n",
       "      <th>1940</th>\n",
       "      <td>Klaas-Jan Huntelaar</td>\n",
       "      <td>0.941880</td>\n",
       "    </tr>\n",
       "    <tr>\n",
       "      <th>2915</th>\n",
       "      <td>Robert Lewandowski</td>\n",
       "      <td>0.970411</td>\n",
       "    </tr>\n",
       "    <tr>\n",
       "      <th>3612</th>\n",
       "      <td>Álvaro Negredo</td>\n",
       "      <td>1.088817</td>\n",
       "    </tr>\n",
       "  </tbody>\n",
       "</table>\n",
       "</div>"
      ],
      "text/plain": [
       "                    player_name   xG/goal\n",
       "1198                Gareth Bale  0.722369\n",
       "183              Alexis Sánchez  0.745802\n",
       "2022               Lionel Messi  0.770593\n",
       "2194                 Marco Reus  0.775686\n",
       "284           Antoine Griezmann  0.792280\n",
       "867                 Diego Costa  0.796206\n",
       "2063                Luis Suárez  0.837291\n",
       "664           Cristiano Ronaldo  0.842364\n",
       "3495               Wayne Rooney  0.862584\n",
       "2964              Romelu Lukaku  0.865202\n",
       "2219                Mario Gomez  0.884259\n",
       "3133              Sergio Agüero  0.893735\n",
       "1866              Karim Benzema  0.908294\n",
       "2799  Pierre-Emerick Aubameyang  0.924417\n",
       "2935           Robin van Persie  0.928336\n",
       "3215            Stefan Kießling  0.933543\n",
       "64                       Aduriz  0.937632\n",
       "1940        Klaas-Jan Huntelaar  0.941880\n",
       "2915         Robert Lewandowski  0.970411\n",
       "3612             Álvaro Negredo  1.088817"
      ]
     },
     "execution_count": 197,
     "metadata": {},
     "output_type": "execute_result"
    }
   ],
   "source": [
    "total = a.groupby('player_name').count()[['x']].reset_index()\n",
    "xG = a.groupby('player_name')[['xG']].sum().reset_index()\n",
    "goals = a.groupby('player_name')[['is_goal']].sum().reset_index()\n",
    "players = total.merge(xG, on='player_name', how='left').merge(goals, on='player_name', how='left')\n",
    "players['xG/goal'] = players['xG']/players['is_goal']\n",
    "players = players[players['is_goal'] > 70][['player_name', 'xG/goal']].sort_values('xG/goal')\n",
    "players"
   ]
  },
  {
   "cell_type": "code",
   "execution_count": 209,
   "metadata": {},
   "outputs": [
    {
     "data": {
      "text/plain": [
       "<matplotlib.text.Text at 0x7fdb5c78eac8>"
      ]
     },
     "execution_count": 209,
     "metadata": {},
     "output_type": "execute_result"
    },
    {
     "data": {
      "image/png": "[encoded data removed]",
      "text/plain": [
       "<matplotlib.figure.Figure at 0x7fdb5c7d7438>"
      ]
     },
     "metadata": {},
     "output_type": "display_data"
    }
   ],
   "source": [
    "fig, ax = plt.subplots(figsize=(20, 13))\n",
    "plt.scatter(np.arange(0,players.shape[0]), players['xG/goal'],s=25, cmap=plt.cm.coolwarm, zorder=10)\n",
    "lims = [\n",
    "    np.min([ax.get_xlim(), ax.get_ylim()]),  # min of both axes\n",
    "    np.max([ax.get_xlim(), ax.get_ylim()]),  # max of both axes\n",
    "]\n",
    "\n",
    "for label, x, y in zip(players['player_name'].values, np.arange(0,players.shape[0]), players['xG/goal'].values):\n",
    "    plt.annotate(\n",
    "        label,\n",
    "        xy=(x, y), xytext=(-10, 10),\n",
    "        textcoords='offset points', ha='right', va='bottom',\n",
    "        bbox=dict(boxstyle='round,pad=0.5', fc='yellow', alpha=0.3),\n",
    "        arrowprops=dict(arrowstyle = '->', connectionstyle='arc3,rad=0'))\n",
    "\n",
    "\n",
    "plt.title('xG/goal in Europe in 2010-2017 seasons (w/o penalties), more than 70 goals for the last 7 seasons', fontsize=18)\n",
    "plt.ylabel('xG/goal', fontsize=18)"
   ]
  },
  {
   "cell_type": "markdown",
   "metadata": {},
   "source": [
    "# Comparison with other models"
   ]
  },
  {
   "cell_type": "markdown",
   "metadata": {
    "collapsed": true
   },
   "source": [
    "Let's calculate RMSE:"
   ]
  },
  {
   "cell_type": "code",
   "execution_count": 56,
   "metadata": {},
   "outputs": [
    {
     "name": "stderr",
     "output_type": "stream",
     "text": [
      "/usr/local/lib/python3.5/dist-packages/ipykernel_launcher.py:9: SettingWithCopyWarning: \n",
      "A value is trying to be set on a copy of a slice from a DataFrame.\n",
      "Try using .loc[row_indexer,col_indexer] = value instead\n",
      "\n",
      "See the caveats in the documentation: http://pandas.pydata.org/pandas-docs/stable/indexing.html#indexing-view-versus-copy\n",
      "  if __name__ == '__main__':\n"
     ]
    }
   ],
   "source": [
    "a = a[a['is_penalty'] == 0]\n",
    "shot_data = a[['x', 'y', 'shot_type', 'is_big_chance', 'is_from_corner', 'is_open_play', 'is_counter',\n",
    "                    'is_set_piece', 'is_freekick']]\n",
    "shot_data.is_copy = False\n",
    "shot_data['distance'] = np.sqrt((100-shot_data['x'])**2+((100-shot_data['y'])/100*63)**2)\n",
    "shot_data['y'] = abs(shot_data['y']-50)\n",
    "shot_data.loc[shot_data['shot_type'] == 0,'shot_type'] = 1\n",
    "shot_data = pd.get_dummies(data=shot_data, columns=['shot_type']).values\n",
    "a['xG'] = get_list_xG(shot_data)"
   ]
  },
  {
   "cell_type": "code",
   "execution_count": 57,
   "metadata": {},
   "outputs": [
    {
     "data": {
      "text/plain": [
       "0.26511717771381915"
      ]
     },
     "execution_count": 57,
     "metadata": {},
     "output_type": "execute_result"
    }
   ],
   "source": [
    "from sklearn.metrics import mean_squared_error\n",
    "np.sqrt(mean_squared_error(a['is_goal'].values, a['xG'].values))"
   ]
  },
  {
   "cell_type": "markdown",
   "metadata": {},
   "source": [
    "Pretty good result (Michael Caley, the guru of xG, got 0.258 in 2015 : https://twitter.com/mc_of_a/status/636957129992216577)"
   ]
  },
  {
   "cell_type": "markdown",
   "metadata": {},
   "source": [
    "# Summary \n",
    "xG-model is a very useful tool for detailed and objective analysis, as well as for long-term predictions. As practice shows, this system can be useful not only for football fans but also for clubs. Probably, soon, the owners of football clubs will use this model to assess the work of the coach, and the coach will use xG to select tactics for the match. This will be a significant step forward from the current situation, in which most decisions are made on the basis of public opinion and random factors."
   ]
  }
 ],
 "metadata": {
  "kernelspec": {
   "display_name": "Python 3",
   "language": "python",
   "name": "python3"
  },
  "language_info": {
   "codemirror_mode": {
    "name": "ipython",
    "version": 3
   },
   "file_extension": ".py",
   "mimetype": "text/x-python",
   "name": "python",
   "nbconvert_exporter": "python",
   "pygments_lexer": "ipython3",
   "version": "3.5.2"
  }
 },
 "nbformat": 4,
 "nbformat_minor": 2
}
