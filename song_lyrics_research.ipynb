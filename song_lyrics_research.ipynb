{
 "cells": [
  {
   "cell_type": "markdown",
   "metadata": {},
   "source": [
    "## Исследование уровня депрессивности песни через ее текст##"
   ]
  },
  {
   "cell_type": "markdown",
   "metadata": {},
   "source": [
    "Недавно в интернете было опубликовано исследование, в котором была проведена попытка анализа содержания музыкальных композиций с помощью анализа их текстов (http://blog.revolutionanalytics.com/2017/02/finding-radioheads-most-depressing-song-with-r.html). В частности, в том исследовании была найдена самая депрессивная песня группы Radiohead. Сделано это было следующим образом: для каждой песни был вычислен так называемый *Gloom Index*, рассчитываемый следуюзим образом:\n",
    "\n",
    "$$gloomIndex = \\frac{1-valence}{2}+\\frac{pctSad\\left(1+lyricalDensity\\right)}{2},$$\n",
    "\n",
    "где:\n",
    "\n",
    "* **valence** - автоматически рассчитываемый индекс с сервиса Spotify, принимающий значения в диапазоне от 0 до 1 и характеризующий уровень позитивности композиции (1 - максимальный, 0 - минимальный). Соответственно, $1-valence$ характеризует степень депрессивности трека.\n",
    "\n",
    "* **pctSad** - основная отличительная черта исследования. Существует датасет, носящий имя *NRC Word-Emotion Association Lexicon*, в котором более чем 14 тысяч слов размечены в соответствии с эмоцией, которая свойственна сущности, описываемой данным словом. Всего эмоций 8: гнев, предчувствие (anticipation), отвращение, страх, радость, грусть, удивление, доверие, а также две глобальные (положительная и негативная). Этот датасет был размечен при помощи краудсорсинга (почитать про это можно по ссылке https://arxiv.org/pdf/1308.6297.pdf). Величина **pctSad** равна проценту слов в тексте песни, вызывающих негативные ассоциации по мнению этого датасета.\n",
    "\n",
    "* **lyricalDensity** - количество слов в секунду. В комбинации с предыдущим признаком, если в двух песнях одинаковый процент слов с негативным окрасом, то более депрессивной считается та, у которой больше **lyricalDensity**. \n",
    "\n",
    "Попытка повторить опыт показала, что во многих случаях **valence** не вполне адекватно отражает то, что должен отражать (все-таки, он рассчитывается автоматически при помощи методов машинного обучения), да и идея о том, что чем больше поток грустных слов, тем грустнее песня, тоже сомнительна, так что в качестве показателя депрессивности я решил просто рассматривать **pctSad**:\n",
    "\n",
    "$$gloomIndex =pctSad$$\n",
    "\n",
    "При таком методе анализа композиций мы будем исключать любую информацию об их звучании (так как, например, при вычислении **valence** машина \"прослушивала\" песни).\n",
    "\n",
    "В своем исследовании я не буду заниматься такими вещами, как поиском наиболее депрессивной песни конкретного исполнителя. Мне интересно исследовать значение индекса депрессивности и влияние на него текстов в более масштабном смысле, например, на дистанции нескольких альбомов или в зависимости от музыкальных жанров композиций."
   ]
  },
  {
   "cell_type": "code",
   "execution_count": 505,
   "metadata": {
    "collapsed": false
   },
   "outputs": [],
   "source": [
    "%matplotlib inline\n",
    "import matplotlib.pyplot as plt\n",
    "import requests\n",
    "from bs4 import BeautifulSoup\n",
    "from time import sleep\n",
    "from tqdm import tqdm\n",
    "from nltk.tokenize import WhitespaceTokenizer\n",
    "from nltk.corpus import stopwords, wordnet\n",
    "from string import punctuation\n",
    "from nltk import pos_tag\n",
    "from nltk.stem.wordnet import WordNetLemmatizer\n",
    "import pandas as pd\n",
    "import seaborn as sns\n",
    "import numpy as np\n",
    "\n",
    "stopwords=['im', 'dont', 'verse', 'chorus', 'youre', 'cant', 'ill']"
   ]
  },
  {
   "cell_type": "markdown",
   "metadata": {},
   "source": [
    "Из-за коммерческих лицензий датасетов с текстами песен не существует, так что придется парсить сайт с текстами песен. Наиболее хорошо для этого подходит ***Genius*** (http://genius.com/):"
   ]
  },
  {
   "cell_type": "code",
   "execution_count": 2,
   "metadata": {
    "collapsed": false
   },
   "outputs": [],
   "source": [
    "#По ссылке на страницу с альбомом возвращает ссылки на тексты каждой из песен\n",
    "def get_album_songs(url):\n",
    "    raw_html = requests.get(url).text\n",
    "    \n",
    "    bs = BeautifulSoup(raw_html)\n",
    "    album_name = bs.find_all('h1', {'class':'album_name'})[0].text.replace('\\n', ' ').strip()\n",
    "    \n",
    "    song_parts =raw_html.split('<span class=\"track_number\">')[1:]\n",
    "    songs = []\n",
    "    for part in song_parts:\n",
    "        bs = BeautifulSoup(part)\n",
    "        href = bs.find_all('a')[0]['href']\n",
    "        title = bs.find_all('span', {'class':'song_title'})[0].text\n",
    "        songs.append([album_name, title.lower(), href])\n",
    "    return songs\n",
    "    \n",
    "#Извлекает текст песни со страницы песни\n",
    "def get_song_lyrics(url):\n",
    "    raw_html = requests.get(url).text\n",
    "    bs = BeautifulSoup(raw_html)\n",
    "    lyrics = bs.find_all('lyrics')[0].text\n",
    "    lyrics = lyrics.replace('\\n', ' ').strip()\n",
    "    sleep(0.3)\n",
    "    return lyrics"
   ]
  },
  {
   "cell_type": "markdown",
   "metadata": {},
   "source": [
    "Для начала посмотрим, способен ли индекс депрессивности определить изменение в общем эмоциональном окрасе композиций на дистанции нескольких альбомов. Приведу пример (в качестве исследуемых я бы хотел брать более известных исполнителей, однако в силу не самого широкого кругозора в сфере музыки и показательности споследующего примера остановлюсь на нем):"
   ]
  },
  {
   "cell_type": "markdown",
   "metadata": {},
   "source": [
    "Проанализируем 4 последних альбома британской группы *Architects*. Я остановился на этом выборе, так как в 2014 году, во время записи предпоследнего альбома, гитарист и автор всех текстов узнал, что неизлечимо болен. Это оказывает влияние на лирику альбома - поднимаются темы беспомощности перед судьбой, страха. Последний альбом пишется после получения известия о том, что болезнь почти победила, и заключительный в жизни автора альбом становится еще мрачнее. Исследуем, является ли это ощущение возросшей депрессивности субъективным, или же его можно отобразить с помощью нашего индекса:"
   ]
  },
  {
   "cell_type": "code",
   "execution_count": 3,
   "metadata": {
    "collapsed": false
   },
   "outputs": [
    {
     "name": "stderr",
     "output_type": "stream",
     "text": [
      "100%|██████████| 51/51 [00:51<00:00,  1.11it/s]\n"
     ]
    }
   ],
   "source": [
    "#Передаем ссылки на альбомы, которые подвергнем анализу, и ждем, пока информация о песнях не появится в массиве result\n",
    "\n",
    "album_urls = ['https://genius.com/albums/Architects/The-here-and-now', 'https://genius.com/albums/Architects/Daybreaker',\n",
    "             'https://genius.com/albums/Architects/Lost-forever-lost-together',\n",
    "             'https://genius.com/albums/Architects/All-our-gods-have-abandoned-us']\n",
    "result = []\n",
    "for url in album_urls:\n",
    "    result += get_album_songs(url)\n",
    "\n",
    "for song in tqdm(result):\n",
    "    song[2] = get_song_lyrics(song[2])"
   ]
  },
  {
   "cell_type": "markdown",
   "metadata": {},
   "source": [
    "Проведем лемматизацию слов:"
   ]
  },
  {
   "cell_type": "code",
   "execution_count": 4,
   "metadata": {
    "collapsed": false
   },
   "outputs": [],
   "source": [
    "def get_wordnet_pos(treebank_tag):\n",
    "\n",
    "    if treebank_tag.startswith('J'):\n",
    "        return wordnet.ADJ\n",
    "    elif treebank_tag.startswith('V'):\n",
    "        return wordnet.VERB\n",
    "    elif treebank_tag.startswith('N'):\n",
    "        return wordnet.NOUN\n",
    "    elif treebank_tag.startswith('R'):\n",
    "        return wordnet.ADV\n",
    "    else:\n",
    "        return ''\n",
    "\n",
    "exclude = set(punctuation + u'0123456789[]—«»–')\n",
    "lmtzr = WordNetLemmatizer()\n",
    "for j, song in enumerate(result):\n",
    "    song[2] = ''.join(ch for ch in song[2] if ch not in exclude)\n",
    "    song[2] = WhitespaceTokenizer().tokenize(song[2].lower())\n",
    "    words = []\n",
    "    for i, t in enumerate(song[2]):\n",
    "        if t not in stopwords.words('english'):\n",
    "            try:\n",
    "                song[2][i] = lmtzr.lemmatize(t, get_wordnet_pos(pos_tag([t])[0][1]))\n",
    "            except:\n",
    "                pass\n",
    "            words.append(song[2][i])\n",
    "    result[j][2] = words"
   ]
  },
  {
   "cell_type": "markdown",
   "metadata": {},
   "source": [
    "Теперь можно перейти к анализу текстов. Для начала загрузим *NRC Word-Emotion Association Lexicon* (размеченный по ассоциируемым со словов эмоциям словарь):"
   ]
  },
  {
   "cell_type": "code",
   "execution_count": 5,
   "metadata": {
    "collapsed": true
   },
   "outputs": [],
   "source": [
    "dic = pd.read_csv('NRC-english.csv')[['English Word', 'Positive', 'Negative', 'Anger', 'Anticipation', \n",
    "                                      'Disgust', 'Fear', 'Joy', 'Sadness', 'Surprise', 'Trust']]"
   ]
  },
  {
   "cell_type": "markdown",
   "metadata": {},
   "source": [
    "Пример эмоций для конкретного слова:"
   ]
  },
  {
   "cell_type": "code",
   "execution_count": 323,
   "metadata": {
    "collapsed": false
   },
   "outputs": [
    {
     "data": {
      "text/html": [
       "<div>\n",
       "<table border=\"1\" class=\"dataframe\">\n",
       "  <thead>\n",
       "    <tr style=\"text-align: right;\">\n",
       "      <th></th>\n",
       "      <th>English Word</th>\n",
       "      <th>Positive</th>\n",
       "      <th>Negative</th>\n",
       "      <th>Anger</th>\n",
       "      <th>Anticipation</th>\n",
       "      <th>Disgust</th>\n",
       "      <th>Fear</th>\n",
       "      <th>Joy</th>\n",
       "      <th>Sadness</th>\n",
       "      <th>Surprise</th>\n",
       "      <th>Trust</th>\n",
       "    </tr>\n",
       "  </thead>\n",
       "  <tbody>\n",
       "    <tr>\n",
       "      <th>1150</th>\n",
       "      <td>beer</td>\n",
       "      <td>1</td>\n",
       "      <td>0</td>\n",
       "      <td>0</td>\n",
       "      <td>0</td>\n",
       "      <td>0</td>\n",
       "      <td>0</td>\n",
       "      <td>1</td>\n",
       "      <td>0</td>\n",
       "      <td>0</td>\n",
       "      <td>0</td>\n",
       "    </tr>\n",
       "    <tr>\n",
       "      <th>2021</th>\n",
       "      <td>cheat</td>\n",
       "      <td>0</td>\n",
       "      <td>1</td>\n",
       "      <td>1</td>\n",
       "      <td>0</td>\n",
       "      <td>1</td>\n",
       "      <td>0</td>\n",
       "      <td>0</td>\n",
       "      <td>0</td>\n",
       "      <td>0</td>\n",
       "      <td>0</td>\n",
       "    </tr>\n",
       "    <tr>\n",
       "      <th>5439</th>\n",
       "      <td>gift</td>\n",
       "      <td>1</td>\n",
       "      <td>0</td>\n",
       "      <td>0</td>\n",
       "      <td>1</td>\n",
       "      <td>0</td>\n",
       "      <td>0</td>\n",
       "      <td>1</td>\n",
       "      <td>0</td>\n",
       "      <td>1</td>\n",
       "      <td>0</td>\n",
       "    </tr>\n",
       "    <tr>\n",
       "      <th>7430</th>\n",
       "      <td>loath</td>\n",
       "      <td>0</td>\n",
       "      <td>1</td>\n",
       "      <td>1</td>\n",
       "      <td>0</td>\n",
       "      <td>0</td>\n",
       "      <td>0</td>\n",
       "      <td>0</td>\n",
       "      <td>0</td>\n",
       "      <td>0</td>\n",
       "      <td>0</td>\n",
       "    </tr>\n",
       "  </tbody>\n",
       "</table>\n",
       "</div>"
      ],
      "text/plain": [
       "     English Word  Positive  Negative  Anger  Anticipation  Disgust  Fear  \\\n",
       "1150         beer         1         0      0             0        0     0   \n",
       "2021        cheat         0         1      1             0        1     0   \n",
       "5439         gift         1         0      0             1        0     0   \n",
       "7430        loath         0         1      1             0        0     0   \n",
       "\n",
       "      Joy  Sadness  Surprise  Trust  \n",
       "1150    1        0         0      0  \n",
       "2021    0        0         0      0  \n",
       "5439    1        0         1      0  \n",
       "7430    0        0         0      0  "
      ]
     },
     "execution_count": 323,
     "metadata": {},
     "output_type": "execute_result"
    }
   ],
   "source": [
    "dic[dic['English Word'].isin(['gift', 'cheat', 'beer', 'loath'])]"
   ]
  },
  {
   "cell_type": "markdown",
   "metadata": {},
   "source": [
    "Вычислим gloom_ind - процент слов, имеющих негативный окрас, от всех размеченных слов из песни"
   ]
  },
  {
   "cell_type": "code",
   "execution_count": 8,
   "metadata": {
    "collapsed": false
   },
   "outputs": [],
   "source": [
    "def calc_gloom_ind(lyrics):\n",
    "    total = 0\n",
    "    negative = 0\n",
    "    for word in lyrics:\n",
    "        if word in dic['English Word'].values:\n",
    "            negative += ((dic[dic['English Word'] == word]['Negative']).values[0] == 1).astype(int)\n",
    "            total += 1\n",
    "    return negative / (total+1)"
   ]
  },
  {
   "cell_type": "code",
   "execution_count": 9,
   "metadata": {
    "collapsed": false
   },
   "outputs": [],
   "source": [
    "for i, song in enumerate(result):\n",
    "    result[i].append(calc_gloom_ind(song[2]))"
   ]
  },
  {
   "cell_type": "code",
   "execution_count": 15,
   "metadata": {
    "collapsed": false
   },
   "outputs": [],
   "source": [
    "df = pd.DataFrame(result, columns = ['album', 'title', 'lyrics', 'gloom_ind'])"
   ]
  },
  {
   "cell_type": "markdown",
   "metadata": {},
   "source": [
    "Визуализируем полученный результат:"
   ]
  },
  {
   "cell_type": "code",
   "execution_count": 16,
   "metadata": {
    "collapsed": false,
    "scrolled": false
   },
   "outputs": [
    {
     "data": {
      "text/plain": [
       "<matplotlib.axes._subplots.AxesSubplot at 0x7f92b8527780>"
      ]
     },
     "execution_count": 16,
     "metadata": {},
     "output_type": "execute_result"
    },
    {
     "data": {
      "image/png": "[encoded data removed]",
      "text/plain": [
       "<matplotlib.figure.Figure at 0x7f92b8527ba8>"
      ]
     },
     "metadata": {},
     "output_type": "display_data"
    }
   ],
   "source": [
    "sns.boxplot(x='gloom_ind', y='album', data=df)\n",
    "sns.swarmplot(x='gloom_ind', y='album', data=df, color='b')"
   ]
  },
  {
   "cell_type": "markdown",
   "metadata": {},
   "source": [
    "Видим резкий прирост на двух последних альбомах по сравнению с предыдущими. Таким образом, исходная гипотеза о возможности визуализации описанных изменений подтверждается."
   ]
  },
  {
   "cell_type": "markdown",
   "metadata": {
    "collapsed": true
   },
   "source": [
    "Можно попытаться сравнить *gloom index* по всему творчеству в зависимости от исполнителя. Для этой и прочих целей я создал небольшой датасет, содержащий иформацию о 7325 песнях, написанных 109 исполнителями, в шести разных жанрах (для человеческого восприятия достаточно сильно отличных друг от друга):\n",
    "\n",
    "* Pop music\n",
    "* Pop-punk/punk-rock music\n",
    "* Rap\n",
    "* Classic rock\n",
    "* Deathcore (тяжелая музыка, ожидается наиболее высокий gloom index)\n",
    "* Grunge\n",
    "\n",
    "Изначально я определился с жанрами, а далее выкачал тексты песен 15-20 исполнителей из топа Last.fm по этому жанру. \n",
    "\n",
    "Загрузим его:"
   ]
  },
  {
   "cell_type": "code",
   "execution_count": 17,
   "metadata": {
    "collapsed": false
   },
   "outputs": [],
   "source": [
    "df = pd.read_csv('lyrics/data.csv')\n",
    "\n",
    "#Удалим песни без слов\n",
    "df = df[pd.notnull(df['lyrics'])]"
   ]
  },
  {
   "cell_type": "code",
   "execution_count": 18,
   "metadata": {
    "collapsed": false
   },
   "outputs": [
    {
     "data": {
      "text/html": [
       "<div>\n",
       "<table border=\"1\" class=\"dataframe\">\n",
       "  <thead>\n",
       "    <tr style=\"text-align: right;\">\n",
       "      <th></th>\n",
       "      <th>artist</th>\n",
       "      <th>album</th>\n",
       "      <th>song</th>\n",
       "      <th>lyrics</th>\n",
       "      <th>genre</th>\n",
       "    </tr>\n",
       "  </thead>\n",
       "  <tbody>\n",
       "    <tr>\n",
       "      <th>0</th>\n",
       "      <td>Eminem</td>\n",
       "      <td>The Marshall Mathers LP 2 (2013)  Eminem</td>\n",
       "      <td>bad guy</td>\n",
       "      <td>[Part 1: Produced by S1 and M-Phazes][Verse 1]...</td>\n",
       "      <td>rap</td>\n",
       "    </tr>\n",
       "    <tr>\n",
       "      <th>1</th>\n",
       "      <td>Eminem</td>\n",
       "      <td>The Marshall Mathers LP 2 (2013)  Eminem</td>\n",
       "      <td>parking lot (skit)</td>\n",
       "      <td>[Teller] Don't kill me!  [Eminem] Hurry the fu...</td>\n",
       "      <td>rap</td>\n",
       "    </tr>\n",
       "    <tr>\n",
       "      <th>2</th>\n",
       "      <td>Eminem</td>\n",
       "      <td>The Marshall Mathers LP 2 (2013)  Eminem</td>\n",
       "      <td>rhyme or reason</td>\n",
       "      <td>[Intro] (What's your name?) Marshall (Who's yo...</td>\n",
       "      <td>rap</td>\n",
       "    </tr>\n",
       "    <tr>\n",
       "      <th>3</th>\n",
       "      <td>Eminem</td>\n",
       "      <td>The Marshall Mathers LP 2 (2013)  Eminem</td>\n",
       "      <td>so much better</td>\n",
       "      <td>[Intro] You fucking groupie Pick up the goddam...</td>\n",
       "      <td>rap</td>\n",
       "    </tr>\n",
       "    <tr>\n",
       "      <th>4</th>\n",
       "      <td>Eminem</td>\n",
       "      <td>The Marshall Mathers LP 2 (2013)  Eminem</td>\n",
       "      <td>survival</td>\n",
       "      <td>[Hook: Liz Rodrigues] This is survival of the ...</td>\n",
       "      <td>rap</td>\n",
       "    </tr>\n",
       "  </tbody>\n",
       "</table>\n",
       "</div>"
      ],
      "text/plain": [
       "   artist                                     album                song  \\\n",
       "0  Eminem  The Marshall Mathers LP 2 (2013)  Eminem             bad guy   \n",
       "1  Eminem  The Marshall Mathers LP 2 (2013)  Eminem  parking lot (skit)   \n",
       "2  Eminem  The Marshall Mathers LP 2 (2013)  Eminem     rhyme or reason   \n",
       "3  Eminem  The Marshall Mathers LP 2 (2013)  Eminem      so much better   \n",
       "4  Eminem  The Marshall Mathers LP 2 (2013)  Eminem            survival   \n",
       "\n",
       "                                              lyrics genre  \n",
       "0  [Part 1: Produced by S1 and M-Phazes][Verse 1]...   rap  \n",
       "1  [Teller] Don't kill me!  [Eminem] Hurry the fu...   rap  \n",
       "2  [Intro] (What's your name?) Marshall (Who's yo...   rap  \n",
       "3  [Intro] You fucking groupie Pick up the goddam...   rap  \n",
       "4  [Hook: Liz Rodrigues] This is survival of the ...   rap  "
      ]
     },
     "execution_count": 18,
     "metadata": {},
     "output_type": "execute_result"
    }
   ],
   "source": [
    "df.head()"
   ]
  },
  {
   "cell_type": "markdown",
   "metadata": {},
   "source": [
    "Нормализуем слова в текстах и вычислим gloom_ind:"
   ]
  },
  {
   "cell_type": "code",
   "execution_count": 19,
   "metadata": {
    "collapsed": false
   },
   "outputs": [
    {
     "name": "stderr",
     "output_type": "stream",
     "text": [
      "7255it [09:13, 13.11it/s]\n"
     ]
    }
   ],
   "source": [
    "lyrics = df['lyrics'].values\n",
    "\n",
    "for j, song in tqdm(enumerate(lyrics)):\n",
    "    song = ''.join(ch for ch in song if ch not in exclude)\n",
    "    song = WhitespaceTokenizer().tokenize(song.lower())\n",
    "    words = []\n",
    "    for i, t in enumerate(song):\n",
    "        if t not in stopwords.words('english'):\n",
    "            try:\n",
    "                song[i] = lmtzr.lemmatize(t, get_wordnet_pos(pos_tag([t])[0][1]))\n",
    "            except:\n",
    "                pass\n",
    "            words.append(song[i])\n",
    "    lyrics[j] = words"
   ]
  },
  {
   "cell_type": "code",
   "execution_count": 24,
   "metadata": {
    "collapsed": false
   },
   "outputs": [
    {
     "name": "stderr",
     "output_type": "stream",
     "text": [
      "100%|██████████| 7255/7255 [24:52<00:00,  4.65it/s]\n"
     ]
    }
   ],
   "source": [
    "gloom_inds = []\n",
    "for song in tqdm(lyrics):\n",
    "    gloom_inds.append(calc_gloom_ind(song))"
   ]
  },
  {
   "cell_type": "code",
   "execution_count": 25,
   "metadata": {
    "collapsed": true
   },
   "outputs": [],
   "source": [
    "df['gloom_ind'] = gloom_inds"
   ]
  },
  {
   "cell_type": "markdown",
   "metadata": {},
   "source": [
    "Для начала посмотрим, отличаются ли средние значения индекса в зависимости от жанра:"
   ]
  },
  {
   "cell_type": "code",
   "execution_count": 57,
   "metadata": {
    "collapsed": false
   },
   "outputs": [],
   "source": [
    "gloom_by_genre = df.groupby('genre')['gloom_ind'].mean().values\n",
    "genre = df.groupby('genre')['gloom_ind'].mean().keys()"
   ]
  },
  {
   "cell_type": "code",
   "execution_count": 63,
   "metadata": {
    "collapsed": false
   },
   "outputs": [
    {
     "data": {
      "image/png": "[encoded data removed]",
      "text/plain": [
       "<matplotlib.figure.Figure at 0x7f92b2693668>"
      ]
     },
     "metadata": {},
     "output_type": "display_data"
    }
   ],
   "source": [
    "plt.barh(np.arange(6), gloom_by_genre)\n",
    "ticks = plt.yticks(np.arange(6) + .5, genre)\n",
    "xt = plt.xticks()[0]\n",
    "_ = plt.xticks(xt, [' '] * len(xt))"
   ]
  },
  {
   "cell_type": "code",
   "execution_count": 386,
   "metadata": {
    "collapsed": false
   },
   "outputs": [
    {
     "data": {
      "text/plain": [
       "<matplotlib.axes._subplots.AxesSubplot at 0x7f92a89b0e10>"
      ]
     },
     "execution_count": 386,
     "metadata": {},
     "output_type": "execute_result"
    },
    {
     "data": {
      "image/png": "[encoded data removed]",
      "text/plain": [
       "<matplotlib.figure.Figure at 0x7f92a89c8550>"
      ]
     },
     "metadata": {},
     "output_type": "display_data"
    }
   ],
   "source": [
    "df_group_by_albums = df.groupby(['genre', 'artist'])['gloom_ind'].mean().reset_index()\n",
    "sns.boxplot(x='gloom_ind', y='genre', data=df_group_by_albums)"
   ]
  },
  {
   "cell_type": "markdown",
   "metadata": {},
   "source": [
    "Ожидаемо, deathcore на первом месте. Поп-музыка, в которой преобладают тексты про любовь и прочие радости жизни, ожидаемо оказалась одной из наименее депрессивных."
   ]
  },
  {
   "cell_type": "markdown",
   "metadata": {},
   "source": [
    "Итак, в текстах песен в зависимости от жанров присутствуют некоторые различия. Интересно попробовать обучить классификатор, определяющий жанр песни в зависимости от ее текста. На соревновании мы обучали классификатор, определяющий тему новости, и для пяти тем точность составила 90%. Ясно, что песни должны классифицироваться хуже, так как в лирике могут затрагиваться одни и те же темы, и не обязательно в каждой песне должны присутствовать отличительные для жанра слова."
   ]
  },
  {
   "cell_type": "code",
   "execution_count": 166,
   "metadata": {
    "collapsed": false
   },
   "outputs": [],
   "source": [
    "from sklearn.feature_extraction.text import CountVectorizer, TfidfVectorizer\n",
    "\n",
    "genre_ind = df['genre'].isin(['rap', 'pop', 'pop_punk', 'deathcore', 'classic_rock'])\n",
    "\n",
    "x = df[genre_ind]['lyrics'].apply(lambda x: ' '.join(x))\n",
    "y = df[genre_ind]['genre'].values\n",
    "\n",
    "x_transf = TfidfVectorizer(ngram_range=(1,2)).fit_transform(x)\n",
    "\n",
    "from sklearn.preprocessing import LabelEncoder\n",
    "le = LabelEncoder()\n",
    "y = le.fit_transform(y)"
   ]
  },
  {
   "cell_type": "code",
   "execution_count": 169,
   "metadata": {
    "collapsed": false
   },
   "outputs": [
    {
     "name": "stdout",
     "output_type": "stream",
     "text": [
      "accuracy: 0.815444\n"
     ]
    }
   ],
   "source": [
    "from sklearn.model_selection import train_test_split\n",
    "x_train, x_test, y_train, y_test = train_test_split(x_transf, y, test_size = 0.2)\n",
    "\n",
    "from sklearn.linear_model import LogisticRegression, SGDClassifier\n",
    "lr = SGDClassifier()\n",
    "lr.fit(x_train, y_train)\n",
    "\n",
    "preds = lr.predict(x_test)\n",
    "from sklearn.metrics import accuracy_score\n",
    "\n",
    "print('accuracy: %f' % accuracy_score(preds, y_test))"
   ]
  },
  {
   "cell_type": "markdown",
   "metadata": {},
   "source": [
    "Добавим в модель значение gloom_ind и посмотрим, как изменится результат:"
   ]
  },
  {
   "cell_type": "code",
   "execution_count": 210,
   "metadata": {
    "collapsed": false
   },
   "outputs": [
    {
     "name": "stdout",
     "output_type": "stream",
     "text": [
      "accuracy: 0.803089\n"
     ]
    }
   ],
   "source": [
    "from scipy.sparse import csr_matrix, hstack\n",
    "x_gloom = df[genre_ind]['gloom_ind'].values\n",
    "x_gloom_csr = csr_matrix(x_gloom.astype('float').reshape(-1,1))\n",
    "x_transf = hstack((x_transf,x_gloom_csr), format='csr')\n",
    "\n",
    "x_train, x_test, y_train, y_test = train_test_split(x_transf, y, test_size = 0.2)\n",
    "\n",
    "lr = SGDClassifier()\n",
    "lr.fit(x_train, y_train)\n",
    "\n",
    "preds = lr.predict(x_test)\n",
    "\n",
    "print('accuracy: %f' % accuracy_score(preds, y_test))"
   ]
  },
  {
   "cell_type": "markdown",
   "metadata": {},
   "source": [
    "Для предсказания жанра значение gloom_ind не пригодилось, однако итоговая точность превзошла мои ожидания. Визуализируем, что с чем чаще всего путалось:"
   ]
  },
  {
   "cell_type": "code",
   "execution_count": 211,
   "metadata": {
    "collapsed": false
   },
   "outputs": [
    {
     "data": {
      "image/png": "[encoded data removed]",
      "text/plain": [
       "<matplotlib.figure.Figure at 0x7f92b20cdcf8>"
      ]
     },
     "metadata": {},
     "output_type": "display_data"
    }
   ],
   "source": [
    "from sklearn.metrics import confusion_matrix\n",
    "\n",
    "labels = le.inverse_transform(lr.classes_)\n",
    "\n",
    "sns.heatmap(data=confusion_matrix(y_test, preds), annot=True, fmt=\"d\", cbar=False, xticklabels=labels, yticklabels=labels)\n",
    "plt.title(\"Confusion matrix\")\n",
    "plt.show()"
   ]
  },
  {
   "cell_type": "markdown",
   "metadata": {},
   "source": [
    "Ну и куда же без самых свойственных жанру слов по tf-idf:"
   ]
  },
  {
   "cell_type": "code",
   "execution_count": 231,
   "metadata": {
    "collapsed": false
   },
   "outputs": [],
   "source": [
    "genre_words = lambda x: ' '.join([word for song in x for word in song])\n",
    "\n",
    "classic_rock_words = genre_words(df[df['genre'] == 'classic_rock']['lyrics'].values)\n",
    "deathcore_words = genre_words(df[df['genre'] == 'deathcore']['lyrics'].values)\n",
    "pop_words = genre_words(df[df['genre'] == 'pop']['lyrics'].values)\n",
    "pop_punk_words = genre_words(df[df['genre'] == 'pop_punk']['lyrics'].values)\n",
    "rap_words = genre_words(df[df['genre'] == 'rap']['lyrics'].values)"
   ]
  },
  {
   "cell_type": "code",
   "execution_count": 258,
   "metadata": {
    "collapsed": true
   },
   "outputs": [],
   "source": [
    "genres = [classic_rock_words, deathcore_words, pop_words, pop_punk_words, rap_words]\n",
    "tfidf = TfidfVectorizer()\n",
    "genres_tf = tfidf.fit_transform(genres)"
   ]
  },
  {
   "cell_type": "code",
   "execution_count": 508,
   "metadata": {
    "collapsed": false
   },
   "outputs": [
    {
     "name": "stdout",
     "output_type": "stream",
     "text": [
      "Top words for classic_rock: love, oh, baby, yeah, time, want, feel, way\n",
      "Top words for deathcore: fuck, life, time, world, eye, feel, die, nothing\n",
      "Top words for pop: love, oh, baby, yeah, want, cause, feel, girl, wanna\n",
      "Top words for pop_punk: want, time, oh, cause, love, feel\n",
      "Top words for rap: nigga, shit, aint, fuck, hook, bitch, cause, yeah, man, thats, ya, em\n"
     ]
    }
   ],
   "source": [
    "feature_array = np.array(tfidf.get_feature_names())\n",
    "\n",
    "for genre, tfs in zip(['classic_rock', 'deathcore', 'pop', 'pop_punk', 'rap'], genres_tf):\n",
    "    tfidf_sorting = np.argsort(tfs.toarray()).flatten()[::-1]\n",
    "    top_words = feature_array[tfidf_sorting][:26]\n",
    "    top_nouns = []\n",
    "    for word in top_words:\n",
    "        if (pos_tag([word])[0][1].startswith('N')) & (word not in stopwords):\n",
    "            top_nouns.append(word)\n",
    "    print('Top words for %s: %s' % (genre, ', '.join(top_nouns)))"
   ]
  },
  {
   "cell_type": "markdown",
   "metadata": {},
   "source": [
    "Интересно, что самой депрессивной песней оказалась небезызвестная Waif me (Rape me) из-за постоянного рефрена. Вот для таких случаев все-таки лучше учитывать что-то типа **valence**"
   ]
  },
  {
   "cell_type": "code",
   "execution_count": 394,
   "metadata": {
    "collapsed": false
   },
   "outputs": [
    {
     "data": {
      "text/html": [
       "<div>\n",
       "<table border=\"1\" class=\"dataframe\">\n",
       "  <thead>\n",
       "    <tr style=\"text-align: right;\">\n",
       "      <th></th>\n",
       "      <th>artist</th>\n",
       "      <th>album</th>\n",
       "      <th>song</th>\n",
       "      <th>lyrics</th>\n",
       "      <th>genre</th>\n",
       "      <th>norm_lyrics</th>\n",
       "      <th>gloom_ind</th>\n",
       "    </tr>\n",
       "  </thead>\n",
       "  <tbody>\n",
       "    <tr>\n",
       "      <th>6560</th>\n",
       "      <td>Nirvana</td>\n",
       "      <td>In Utero (1993)  Nirvana</td>\n",
       "      <td>waif me</td>\n",
       "      <td>[rape, rape, friend, rape, rape, im, one, im, ...</td>\n",
       "      <td>grunge</td>\n",
       "      <td>[rape, rape, friend, rape, rape, im, one, im, ...</td>\n",
       "      <td>0.738095</td>\n",
       "    </tr>\n",
       "  </tbody>\n",
       "</table>\n",
       "</div>"
      ],
      "text/plain": [
       "       artist                     album     song  \\\n",
       "6560  Nirvana  In Utero (1993)  Nirvana  waif me   \n",
       "\n",
       "                                                 lyrics   genre  \\\n",
       "6560  [rape, rape, friend, rape, rape, im, one, im, ...  grunge   \n",
       "\n",
       "                                            norm_lyrics  gloom_ind  \n",
       "6560  [rape, rape, friend, rape, rape, im, one, im, ...   0.738095  "
      ]
     },
     "execution_count": 394,
     "metadata": {},
     "output_type": "execute_result"
    }
   ],
   "source": [
    "df[df['gloom_ind'] == df['gloom_ind'].max()]"
   ]
  },
  {
   "cell_type": "markdown",
   "metadata": {},
   "source": [
    "Проверим выполнение закона Ципфа (т.к. тексты песен имеют несколько иную структуру, нежели обыные тексты, не помешает это сделать): "
   ]
  },
  {
   "cell_type": "code",
   "execution_count": 317,
   "metadata": {
    "collapsed": false
   },
   "outputs": [],
   "source": [
    "total_words = genre_words(df['lyrics'])\n",
    "cv = CountVectorizer()\n",
    "indices = (cv.fit_transform([words])).toarray()[0]\n",
    "args = np.argsort(indices).flatten()[::-1]"
   ]
  },
  {
   "cell_type": "code",
   "execution_count": 318,
   "metadata": {
    "collapsed": false
   },
   "outputs": [],
   "source": [
    "counts = indices[args]"
   ]
  },
  {
   "cell_type": "code",
   "execution_count": 319,
   "metadata": {
    "collapsed": false
   },
   "outputs": [
    {
     "data": {
      "text/plain": [
       "[<matplotlib.lines.Line2D at 0x7f92b2698668>]"
      ]
     },
     "execution_count": 319,
     "metadata": {},
     "output_type": "execute_result"
    },
    {
     "data": {
      "image/png": "[encoded data removed]",
      "text/plain": [
       "<matplotlib.figure.Figure at 0x7f92b25ea908>"
      ]
     },
     "metadata": {},
     "output_type": "display_data"
    }
   ],
   "source": [
    "plt.plot(count[:1000])"
   ]
  },
  {
   "cell_type": "markdown",
   "metadata": {},
   "source": [
    "Закон выполняется."
   ]
  },
  {
   "cell_type": "markdown",
   "metadata": {},
   "source": [
    "# Выводы"
   ]
  },
  {
   "cell_type": "markdown",
   "metadata": {},
   "source": [
    "Я не могу сказать, что получилось какое-то уникальное по своим результатам исследование, однако было интересно посмотреть, насколько возможно измерять эмоциональный окрас музыкальных композиций при помощи компьютера. Результаты показали, что между жанрами действительно существует разница в этом плане. Еще получится довольно удивительный результат, что по тексту песни с точностью 80% предсказывался ее жанр."
   ]
  }
 ],
 "metadata": {
  "kernelspec": {
   "display_name": "Python 3",
   "language": "python",
   "name": "python3"
  },
  "language_info": {
   "codemirror_mode": {
    "name": "ipython",
    "version": 3
   },
   "file_extension": ".py",
   "mimetype": "text/x-python",
   "name": "python",
   "nbconvert_exporter": "python",
   "pygments_lexer": "ipython3",
   "version": "3.4.3"
  }
 },
 "nbformat": 4,
 "nbformat_minor": 1
}
