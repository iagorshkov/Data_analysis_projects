{
 "cells": [
  {
   "cell_type": "code",
   "execution_count": 1,
   "metadata": {
    "collapsed": true
   },
   "outputs": [],
   "source": [
    "import matplotlib.image as image\n",
    "from matplotlib import pyplot as plt\n",
    "import pylab\n",
    "%matplotlib inline\n",
    "import requests\n",
    "import re\n",
    "import json\n",
    "import pandas as pd\n",
    "from selenium import webdriver\n",
    "from time import sleep\n",
    "headers = {'User-Agent': 'Mozilla/5.0 (X11; Ubuntu; Linux x86_64; rv:45.0) Gecko/20100101 Firefox/45.0'}"
   ]
  },
  {
   "cell_type": "markdown",
   "metadata": {},
   "source": [
    "В первую очередь, научимся извлекать информацию об отдельно взятом матче. Сделать это легко, она содержится в html-коде страницы:"
   ]
  },
  {
   "cell_type": "code",
   "execution_count": 2,
   "metadata": {
    "collapsed": true
   },
   "outputs": [],
   "source": [
    "def get_match_info(match_url):\n",
    "    response = requests.get(match_url,headers=headers)\n",
    "    regex = re.compile(\"var matchCentreData = (\\{.+\\});\\r\\n        var matchCentreEventTypeJson\", re.S)\n",
    "    match = re.search(regex, response.text)\n",
    "    match_id = re.findall(r'\\d+', match_url)[0]\n",
    "    match_dict = json.loads(match.groups(1)[0])\n",
    "    match_dict['match_id'] = match_id\n",
    "    \n",
    "    teams_info = re.findall('matchHeader.load\\(\\[(.+)\\]\\r', response.text)[0].split(',')\n",
    "    match_dict['home_team_name'] = teams_info[2][1:-1]\n",
    "    match_dict['away_team_name'] = teams_info[3][1:-1]\n",
    "\n",
    "    return match_dict"
   ]
  },
  {
   "cell_type": "markdown",
   "metadata": {},
   "source": [
    "Результат - огромный список с информацией о каждом действии, произошедшим по ходу матча. Каждому событию поставлены в соответствие несколько чисел из списка *satisfiedEventsTypes*, характеризующих его тип (например, 7 значит, что данное событие - удар в штангу, 11 - удар правой ногой и т.д.). Например, 'satisfiedEventsTypes': [90, 116, 29, 34, 36, 215, 217] говорит о том, что рассматриваемое событие - точный пас назад, сделанный во второй трети поля. "
   ]
  },
  {
   "cell_type": "markdown",
   "metadata": {},
   "source": [
    "Так как нас интересуют только удары, будем обрабатывать только те события, содержащие в этом списке 9 (событие \"shotsTotal\"):"
   ]
  },
  {
   "cell_type": "code",
   "execution_count": 3,
   "metadata": {
    "collapsed": true
   },
   "outputs": [],
   "source": [
    "def parse_shots_from_match(match_info):\n",
    "    \n",
    "    match_id = match_info['match_id']\n",
    "    home_id = match_info['home']['teamId']\n",
    "    away_id = match_info['away']['teamId']\n",
    "    player_ids = match_info['playerIdNameDictionary']\n",
    "    \n",
    "    shots = []\n",
    "    \n",
    "    for event in match_info['events']:\n",
    "        if 9 in event['satisfiedEventsTypes']:\n",
    "            minute = event['minute']\n",
    "            \n",
    "            player_id = str(event['playerId'])\n",
    "            player_name = player_ids[player_id]\n",
    "            x_coord = event['x']\n",
    "            y_coord = event['y']\n",
    "        \n",
    "            goalMouthY = ''\n",
    "            goalMouthZ = ''\n",
    "            try:\n",
    "                goalMouthY = event['goalMouthY']\n",
    "                goalMouthZ = event['goalMouthZ']\n",
    "            except:\n",
    "                pass\n",
    "        \n",
    "            is_big_chance = 0\n",
    "            is_from_corner = 0\n",
    "            is_freekick = 0\n",
    "            is_penalty = 0\n",
    "            if 'qualifiers'  in event:\n",
    "                for q in event['qualifiers']:\n",
    "                    if q['type']['displayName'] == 'BigChance':\n",
    "                        is_big_chance = 1\n",
    "                    if q['type']['displayName'] == 'FromCorner':\n",
    "                        is_from_corner = 1\n",
    "                    if q['type']['displayName'] ==  'DirectFreekick':\n",
    "                        is_freekick = 1\n",
    "                    if q['type']['displayName'] == 'Penalty':\n",
    "                        is_penalty = 1\n",
    "        \n",
    "            is_open_play = int(3 in event['satisfiedEventsTypes'])\n",
    "            is_counter = int(4 in event['satisfiedEventsTypes'])\n",
    "            is_set_piece = int(5 in event['satisfiedEventsTypes'])\n",
    "            is_goal = int(('isGoal' in event) and (event['isGoal']==True))\n",
    "            is_shot_on_target = int(8 in event['satisfiedEventsTypes'])\n",
    "            is_blocked = int(10 in event['satisfiedEventsTypes'])\n",
    "        \n",
    "            shot_type = 0\n",
    "            if 11 in event['satisfiedEventsTypes']:\n",
    "                shot_type = 1\n",
    "            if 12 in event['satisfiedEventsTypes']:\n",
    "                shot_type = 1\n",
    "            if 13 in event['satisfiedEventsTypes']:\n",
    "                shot_type = 2\n",
    "        \n",
    "            shots.append([match_id, event['teamId'], player_id, player_name, minute, x_coord, y_coord, goalMouthY, goalMouthZ,\n",
    "                          shot_type, is_big_chance, is_from_corner, is_open_play, is_counter, is_set_piece, is_freekick, \n",
    "                          is_penalty, is_shot_on_target, is_blocked, is_goal])\n",
    "\n",
    "    return shots"
   ]
  },
  {
   "cell_type": "markdown",
   "metadata": {},
   "source": [
    "Нужно уметь представлять данные об ударах в удобном виде:"
   ]
  },
  {
   "cell_type": "code",
   "execution_count": 4,
   "metadata": {
    "collapsed": true
   },
   "outputs": [],
   "source": [
    "def represent(shots_list):\n",
    "    return pd.DataFrame(shots_list, columns=['match_id', 'team_id', 'player_id', 'player_name', 'minute', 'x', 'y', \n",
    "                'goalMouthY', 'goalMouthZ', 'shot_type', 'is_big_chance', 'is_from_corner', 'is_open_play', 'is_counter', \n",
    "                'is_set_piece', 'is_freekick', 'is_penalty', 'is_on_target', 'is_blocked', 'is_goal'])"
   ]
  },
  {
   "cell_type": "markdown",
   "metadata": {},
   "source": [
    "Итак, теперь мы умеем делать все необходимое для анализа отдельно выбранного матча. Однако нам предстоит обрабатывать тысячи игр, так что необходимо уметь получить ссылки на множество матчий одним действием. Так как whoscored.com динамически подгружает информацию о матчах, лучший способ это сделать - воспользоваться модулем Selenium:"
   ]
  },
  {
   "cell_type": "code",
   "execution_count": 5,
   "metadata": {
    "collapsed": true
   },
   "outputs": [],
   "source": [
    "def get_tournament_urls(tournament_url):\n",
    "    driver = webdriver.Chrome('/home/saint/Рабочий стол/chromedriver')\n",
    "    driver.get(tournament_url)\n",
    "    \n",
    "    match_urls = []\n",
    "    \n",
    "    while True:\n",
    "        month = driver.find_elements_by_class_name(\"text\")[4].text\n",
    "        matches = driver.find_elements_by_class_name(\"result-1\")\n",
    "        for match in matches:\n",
    "            match_urls.append(match.get_attribute('href'))\n",
    "        driver.find_element_by_xpath(\"\"\"//*[@id=\"date-controller\"]/a[1]\"\"\").click()\n",
    "        month_new = driver.find_elements_by_class_name(\"text\")[4].text\n",
    "        if month_new == month:\n",
    "            break\n",
    "        month = month_new\n",
    "        sleep(2)\n",
    "    return match_urls"
   ]
  },
  {
   "cell_type": "code",
   "execution_count": 6,
   "metadata": {
    "collapsed": true
   },
   "outputs": [],
   "source": [
    "matches = get_tournament_urls('https://www.whoscored.com/Regions/108/Tournaments/5/Seasons/6461/Stages/14014/Fixtures/Italy-Serie-A-2016-2017')"
   ]
  },
  {
   "cell_type": "code",
   "execution_count": 367,
   "metadata": {
    "scrolled": true
   },
   "outputs": [
    {
     "name": "stderr",
     "output_type": "stream",
     "text": [
      "100%|██████████| 306/306 [14:44<00:00,  2.39s/it]\n"
     ]
    }
   ],
   "source": [
    "from tqdm import tqdm\n",
    "shots = []\n",
    "for match in tqdm(matches):\n",
    "    shots += parse_shots_from_match(get_match_info(match))\n",
    "    sleep(0.5)"
   ]
  },
  {
   "cell_type": "markdown",
   "metadata": {},
   "source": [
    "На всякий случай реализуем возможность визуализации точек, с которых и в которые был нанесен удар:"
   ]
  },
  {
   "cell_type": "code",
   "execution_count": 7,
   "metadata": {
    "collapsed": true
   },
   "outputs": [],
   "source": [
    "from matplotlib import patches\n",
    "def goalMouth_map(coord_list, is_goal_list):\n",
    "\n",
    "    fig,ax = plt.subplots(1)\n",
    "    fig.set_size_inches(15, 3.9, forward=True)\n",
    "\n",
    "    pylab.ylim([0,55])\n",
    "    pylab.xlim([-10,10])\n",
    "\n",
    "    rect = patches.Rectangle((-4.9,0),9.8,38.5,linewidth=7,edgecolor='k',facecolor='none')\n",
    "    ax.add_patch(rect)\n",
    "\n",
    "    for c, shot in enumerate(coord_list):\n",
    "        color = '.g' if is_goal_list[c] == 1 else '.r'\n",
    "        plt.plot(50-shot[0], shot[1], color )\n",
    "    plt.show()"
   ]
  },
  {
   "cell_type": "code",
   "execution_count": 8,
   "metadata": {
    "collapsed": true
   },
   "outputs": [],
   "source": [
    "def shots_map(coord_list, is_goal_list, is_home_list, xG_list = False, score='', home_team_name='', away_team_name='',\n",
    "             xG_score=''):\n",
    "    PITCH_LENGTH = 152\n",
    "    \n",
    "    fig,ax = plt.subplots(1)\n",
    "    ax.set_facecolor('#65AA1F')\n",
    "    fig.set_size_inches(13, 15, forward=True)\n",
    "    plt.gca().set_aspect('equal', adjustable='box')\n",
    "    pylab.ylim([0,110])\n",
    "    pylab.xlim([0,PITCH_LENGTH])\n",
    "\n",
    "    plt.plot([50*PITCH_LENGTH/100, 50*PITCH_LENGTH/100], [0, 100], 'k-', lw=2)\n",
    "    plt.plot([0, 16.2*PITCH_LENGTH/100], [20, 20], 'k-', lw=2)\n",
    "    plt.plot([0, 16.2*PITCH_LENGTH/100], [80, 80], 'k-', lw=2)\n",
    "    plt.plot([16.2*PITCH_LENGTH/100, 16.2*PITCH_LENGTH/100], [20, 80], 'k-', lw=2)\n",
    "    plt.plot([100*PITCH_LENGTH/100, 83.8*PITCH_LENGTH/100], [20, 20], 'k-', lw=2)\n",
    "    plt.plot([100*PITCH_LENGTH/100, 83.8*PITCH_LENGTH/100], [80, 80], 'k-', lw=2)\n",
    "    plt.plot([83.8*PITCH_LENGTH/100, 83.8*PITCH_LENGTH/100], [20, 80], 'k-', lw=2)\n",
    "    plt.plot([0, 5.5*PITCH_LENGTH/100], [36.33, 36.33], 'k-', lw=2)\n",
    "    plt.plot([0, 5.5*PITCH_LENGTH/100], [63.67, 63.67], 'k-', lw=2)\n",
    "    plt.plot([5.5*PITCH_LENGTH/100, 5.5*PITCH_LENGTH/100], [36.33, 63.67], 'k-', lw=2)\n",
    "    plt.plot([100*PITCH_LENGTH/100, 94.5*PITCH_LENGTH/100], [36.33, 36.33], 'k-', lw=2)\n",
    "    plt.plot([100*PITCH_LENGTH/100, 94.5*PITCH_LENGTH/100], [63.67, 63.67], 'k-', lw=2)\n",
    "    plt.plot([94.5*PITCH_LENGTH/100, 94.5*PITCH_LENGTH/100], [36.33, 63.67], 'k-', lw=2)\n",
    "    plt.plot([0, 0], [44.54, 55.46], 'k-', lw=5)\n",
    "    plt.plot([100*PITCH_LENGTH/100, 100*PITCH_LENGTH/100], [44.54, 55.46], 'k-', lw=5)\n",
    "    plt.plot(11.5*PITCH_LENGTH/100,50, '.k')\n",
    "    plt.plot(88.5*PITCH_LENGTH/100,50, '.k')\n",
    "    plt.plot([0, 100*PITCH_LENGTH/100], [100, 100], 'k-', lw=2)\n",
    "    circle=plt.Circle((50*PITCH_LENGTH/100,50),14.5, fill=False)\n",
    "    ax.add_artist(circle)\n",
    "    \n",
    "    rect = patches.Rectangle((0,100),PITCH_LENGTH,10,linewidth=1,color='w')\n",
    "    ax.add_patch(rect)\n",
    "    \n",
    "    plt.text(15,104,home_team_name, size=20, horizontalalignment='left')\n",
    "    plt.text(PITCH_LENGTH-15,104,away_team_name, size=20, horizontalalignment='right')\n",
    "    plt.text(PITCH_LENGTH/2,106,score, size=15, horizontalalignment='center')\n",
    "    plt.text(PITCH_LENGTH/2,102,xG_score, size=15, horizontalalignment='center')\n",
    "    \n",
    "    for c, shot in enumerate(coord_list):\n",
    "        color = '.g' if is_goal_list[c] == 1 else '.r'\n",
    "        if type(xG_list) == bool:\n",
    "            markersize = 30\n",
    "        else:\n",
    "            markersize = 50*np.sqrt(xG_list[c])\n",
    "        if is_home_list[c] == 0:\n",
    "            x = shot[0]*PITCH_LENGTH/100\n",
    "            y = shot[1]\n",
    "        else:\n",
    "            x = (100-shot[0])*PITCH_LENGTH/100\n",
    "            y = 100-shot[1]\n",
    "        plt.plot(x, y, color, markersize=markersize, markeredgecolor='k')\n",
    "    plt.savefig('testplot.png', bbox_inches='tight', pad_inches=0)\n",
    "    plt.show()"
   ]
  },
  {
   "cell_type": "code",
   "execution_count": 22,
   "metadata": {
    "collapsed": true
   },
   "outputs": [],
   "source": [
    "from os import listdir\n",
    "seasons = []\n",
    "for file in listdir('/home/saint/Рабочий стол/Football Analytics/ignatov/data'):\n",
    "    seasons.append(pd.read_csv('data/'+file))\n",
    "a = pd.concat(seasons)"
   ]
  },
  {
   "cell_type": "markdown",
   "metadata": {},
   "source": [
    "Загрузим обученную модель xG и попробуем осуществить предсказания:"
   ]
  },
  {
   "cell_type": "code",
   "execution_count": 10,
   "metadata": {},
   "outputs": [],
   "source": [
    "from sklearn.externals import joblib\n",
    "lr = joblib.load('LogisticRegression.pkl') "
   ]
  },
  {
   "cell_type": "code",
   "execution_count": 11,
   "metadata": {
    "collapsed": true
   },
   "outputs": [],
   "source": [
    "def get_shot_xG(shot):\n",
    "    return lr.predict_proba(shot.reshape(1,-1))[:,1][0]"
   ]
  },
  {
   "cell_type": "code",
   "execution_count": 12,
   "metadata": {
    "collapsed": true
   },
   "outputs": [],
   "source": [
    "def get_list_xG(shots):\n",
    "    xG_list = []\n",
    "    for shot in shots:\n",
    "        xG_list.append(get_shot_xG(shot))\n",
    "    return xG_list"
   ]
  },
  {
   "cell_type": "code",
   "execution_count": 13,
   "metadata": {
    "collapsed": true
   },
   "outputs": [],
   "source": [
    "def get_match_xG(match_url):\n",
    "    match_info = get_match_info(match_url)\n",
    "    \n",
    "    score = match_info['score'] \n",
    "    home_team_id = match_info['home']['teamId']\n",
    "    away_team_id = match_info['away']['teamId']\n",
    "    home_team_name = match_info['home_team_name']\n",
    "    away_team_name = match_info['away_team_name']\n",
    "\n",
    "    df = represent(parse_shots_from_match(match_info))\n",
    "    shot_data = df[['team_id', 'x', 'y', 'shot_type', 'is_big_chance', 'is_from_corner', 'is_open_play', 'is_counter',\n",
    "                    'is_set_piece', 'is_freekick']]\n",
    "    shot_data.is_copy = False\n",
    "    shot_data['distance'] = np.sqrt((100-shot_data['x'])**2+((100-shot_data['y'])/100*63)**2)\n",
    "    shot_data['y'] = abs(shot_data['y']-50)\n",
    "    shot_data = pd.get_dummies(data=shot_data, columns=['shot_type']).drop('team_id', axis=1).values\n",
    "    df['xG'] = get_list_xG(shot_data)\n",
    "\n",
    "    home_pens = df[(df['is_penalty'] == 1) & (df['team_id'] == home_team_id)]['is_penalty'].sum()\n",
    "    away_pens = df[(df['is_penalty'] == 1) & (df['team_id'] == away_team_id)]['is_penalty'].sum()\n",
    "    df_no_pen = df[df['is_penalty'] == 0]\n",
    "    home_xG = df_no_pen[df_no_pen['team_id'] == home_team_id]['xG'].sum()\n",
    "    away_xG = df_no_pen[df_no_pen['team_id'] == away_team_id]['xG'].sum()\n",
    "    xG_score = '(%0.2f ' % (home_xG)\n",
    "    if home_pens != 0:\n",
    "        xG_score += '(+%d pen) ' % (home_pens)\n",
    "    xG_score += ': %0.2f' % (away_xG)\n",
    "    if away_pens != 0:\n",
    "        xG_score += ' (+%d pen)' % (away_pens)\n",
    "    xG_score += ')'\n",
    "\n",
    "    shots_info = df_no_pen[['x', 'y', 'is_goal', 'xG', 'team_id']]\n",
    "    shots_info['home_team'] = (shots_info['team_id'] == home_team_id).astype(int)\n",
    "    shots_info = shots_info.values\n",
    "    shots_map(shots_info[:,:2], shots_info[:,2], shots_info[:,5], shots_info[:,3], score=score,\n",
    "              home_team_name=home_team_name, away_team_name=away_team_name, xG_score=xG_score)\n",
    "    return df"
   ]
  },
  {
   "cell_type": "code",
   "execution_count": 14,
   "metadata": {
    "scrolled": false
   },
   "outputs": [
    {
     "name": "stderr",
     "output_type": "stream",
     "text": [
      "/usr/local/lib/python3.5/dist-packages/ipykernel_launcher.py:33: SettingWithCopyWarning: \n",
      "A value is trying to be set on a copy of a slice from a DataFrame.\n",
      "Try using .loc[row_indexer,col_indexer] = value instead\n",
      "\n",
      "See the caveats in the documentation: http://pandas.pydata.org/pandas-docs/stable/indexing.html#indexing-view-versus-copy\n"
     ]
    },
    {
     "data": {
      "image/png": "[encoded data removed]",
      "text/plain": [
       "<matplotlib.figure.Figure at 0x7f5de00ff668>"
      ]
     },
     "metadata": {},
     "output_type": "display_data"
    }
   ],
   "source": [
    "import numpy as np\n",
    "shots = get_match_xG('https://www.whoscored.com/Matches/1083840/Live/Russia-Premier-League-2016-2017-Lokomotiv-Moscow-FC-Orenburg')"
   ]
  },
  {
   "cell_type": "code",
   "execution_count": 23,
   "metadata": {},
   "outputs": [
    {
     "data": {
      "image/png": "[encoded data removed]",
      "text/plain": [
       "<matplotlib.figure.Figure at 0x7f5daa2f6dd8>"
      ]
     },
     "metadata": {},
     "output_type": "display_data"
    }
   ],
   "source": [
    "sh_t = shots[shots['is_on_target'] == 1][['goalMouthY', 'goalMouthZ', 'is_goal']].values\n",
    "goalMouth_map(sh_t[:,:2], sh_t[:,2])"
   ]
  },
  {
   "cell_type": "code",
   "execution_count": null,
   "metadata": {
    "collapsed": true
   },
   "outputs": [],
   "source": []
  }
 ],
 "metadata": {
  "kernelspec": {
   "display_name": "Python 3",
   "language": "python",
   "name": "python3"
  },
  "language_info": {
   "codemirror_mode": {
    "name": "ipython",
    "version": 3
   },
   "file_extension": ".py",
   "mimetype": "text/x-python",
   "name": "python",
   "nbconvert_exporter": "python",
   "pygments_lexer": "ipython3",
   "version": "3.5.2"
  }
 },
 "nbformat": 4,
 "nbformat_minor": 2
}
